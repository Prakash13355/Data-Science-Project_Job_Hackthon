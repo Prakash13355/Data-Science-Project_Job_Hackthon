{
 "cells": [
  {
   "cell_type": "markdown",
   "id": "9d72724b",
   "metadata": {},
   "source": [
    "# Importing library's"
   ]
  },
  {
   "cell_type": "code",
   "execution_count": 1,
   "id": "f52b6a21",
   "metadata": {},
   "outputs": [],
   "source": [
    "import numpy as np\n",
    "import pandas as pd\n",
    "import matplotlib.pyplot as plt\n",
    "import seaborn as sns\n",
    "import statsmodels.api as sm\n",
    "from statsmodels.formula.api import ols\n",
    "from warnings import filterwarnings\n",
    "from statsmodels.stats.multicomp import pairwise_tukeyhsd\n",
    "filterwarnings('ignore')\n",
    "plt.rcParams['figure.figsize'] = (15,8)"
   ]
  },
  {
   "cell_type": "code",
   "execution_count": 2,
   "id": "8e73dd34",
   "metadata": {},
   "outputs": [],
   "source": [
    "data = pd.read_csv('train_MpHjUjU.csv') #loading the orginal data file"
   ]
  },
  {
   "cell_type": "code",
   "execution_count": 3,
   "id": "4a3762e7",
   "metadata": {},
   "outputs": [
    {
     "name": "stdout",
     "output_type": "stream",
     "text": [
      "<class 'pandas.core.frame.DataFrame'>\n",
      "RangeIndex: 19104 entries, 0 to 19103\n",
      "Data columns (total 14 columns):\n",
      " #   Column                Non-Null Count  Dtype \n",
      "---  ------                --------------  ----- \n",
      " 0   MMM-YY                19104 non-null  object\n",
      " 1   Emp_ID                19104 non-null  int64 \n",
      " 2   Age                   19104 non-null  int64 \n",
      " 3   Gender                19104 non-null  object\n",
      " 4   City                  19104 non-null  object\n",
      " 5   Education_Level       19104 non-null  object\n",
      " 6   Salary                19104 non-null  int64 \n",
      " 7   Dateofjoining         19104 non-null  object\n",
      " 8   LastWorkingDate       1616 non-null   object\n",
      " 9   Joining Designation   19104 non-null  int64 \n",
      " 10  Designation           19104 non-null  int64 \n",
      " 11  Total Business Value  19104 non-null  int64 \n",
      " 12  Quarterly Rating      19104 non-null  int64 \n",
      " 13  Target                19104 non-null  bool  \n",
      "dtypes: bool(1), int64(7), object(6)\n",
      "memory usage: 1.9+ MB\n"
     ]
    }
   ],
   "source": [
    "data.info()# to know the information about columns"
   ]
  },
  {
   "cell_type": "code",
   "execution_count": 4,
   "id": "4ed47d6c",
   "metadata": {},
   "outputs": [
    {
     "data": {
      "text/plain": [
       "MMM-YY                      0\n",
       "Emp_ID                      0\n",
       "Age                         0\n",
       "Gender                      0\n",
       "City                        0\n",
       "Education_Level             0\n",
       "Salary                      0\n",
       "Dateofjoining               0\n",
       "LastWorkingDate         17488\n",
       "Joining Designation         0\n",
       "Designation                 0\n",
       "Total Business Value        0\n",
       "Quarterly Rating            0\n",
       "Target                      0\n",
       "dtype: int64"
      ]
     },
     "execution_count": 4,
     "metadata": {},
     "output_type": "execute_result"
    }
   ],
   "source": [
    "data.isnull().sum()# to know the null_values"
   ]
  },
  {
   "cell_type": "code",
   "execution_count": 5,
   "id": "41462b88",
   "metadata": {},
   "outputs": [],
   "source": [
    "data[\"Target\"]=data[\"Target\"].replace(to_replace=[True,False],value=[0,1])#replacing true or false and 0 and 1"
   ]
  },
  {
   "cell_type": "code",
   "execution_count": 6,
   "id": "e5c6ca03",
   "metadata": {},
   "outputs": [
    {
     "name": "stdout",
     "output_type": "stream",
     "text": [
      "<class 'pandas.core.frame.DataFrame'>\n",
      "RangeIndex: 19104 entries, 0 to 19103\n",
      "Data columns (total 14 columns):\n",
      " #   Column                Non-Null Count  Dtype \n",
      "---  ------                --------------  ----- \n",
      " 0   MMM-YY                19104 non-null  object\n",
      " 1   Emp_ID                19104 non-null  int64 \n",
      " 2   Age                   19104 non-null  int64 \n",
      " 3   Gender                19104 non-null  object\n",
      " 4   City                  19104 non-null  object\n",
      " 5   Education_Level       19104 non-null  object\n",
      " 6   Salary                19104 non-null  int64 \n",
      " 7   Dateofjoining         19104 non-null  object\n",
      " 8   LastWorkingDate       1616 non-null   object\n",
      " 9   Joining Designation   19104 non-null  int64 \n",
      " 10  Designation           19104 non-null  int64 \n",
      " 11  Total Business Value  19104 non-null  int64 \n",
      " 12  Quarterly Rating      19104 non-null  int64 \n",
      " 13  Target                19104 non-null  int64 \n",
      "dtypes: int64(8), object(6)\n",
      "memory usage: 2.0+ MB\n"
     ]
    }
   ],
   "source": [
    "data.info()"
   ]
  },
  {
   "cell_type": "markdown",
   "id": "0392a13d",
   "metadata": {},
   "source": [
    "# Target"
   ]
  },
  {
   "cell_type": "code",
   "execution_count": 7,
   "id": "da8e9d87",
   "metadata": {},
   "outputs": [
    {
     "data": {
      "text/plain": [
       "0    17488\n",
       "1     1616\n",
       "Name: Target, dtype: int64"
      ]
     },
     "execution_count": 7,
     "metadata": {},
     "output_type": "execute_result"
    }
   ],
   "source": [
    "data.Target.value_counts()#to know the inside values-number of unique values"
   ]
  },
  {
   "cell_type": "code",
   "execution_count": 8,
   "id": "fd452339",
   "metadata": {},
   "outputs": [
    {
     "data": {
      "image/png": "[encoded data removed]",
      "text/plain": [
       "<Figure size 1080x576 with 1 Axes>"
      ]
     },
     "metadata": {
      "needs_background": "light"
     },
     "output_type": "display_data"
    }
   ],
   "source": [
    "sns.countplot(data.Target)\n",
    "plt.title(\"countplot of Target\")\n",
    "plt.show()"
   ]
  },
  {
   "cell_type": "markdown",
   "id": "b66fb87d",
   "metadata": {},
   "source": [
    "#here we can see that the employee does not leave the organization is  more compare to the resigned employee to the organization"
   ]
  },
  {
   "cell_type": "code",
   "execution_count": 9,
   "id": "f37971ce",
   "metadata": {},
   "outputs": [
    {
     "data": {
      "text/plain": [
       "count    19104.000000\n",
       "mean         0.084590\n",
       "std          0.278277\n",
       "min          0.000000\n",
       "25%          0.000000\n",
       "50%          0.000000\n",
       "75%          0.000000\n",
       "max          1.000000\n",
       "Name: Target, dtype: float64"
      ]
     },
     "execution_count": 9,
     "metadata": {},
     "output_type": "execute_result"
    }
   ],
   "source": [
    "data.Target.describe()"
   ]
  },
  {
   "cell_type": "markdown",
   "id": "b2bac944",
   "metadata": {},
   "source": [
    "# MMM-YY"
   ]
  },
  {
   "cell_type": "code",
   "execution_count": 10,
   "id": "fd8e6b3d",
   "metadata": {},
   "outputs": [],
   "source": [
    "data = data.rename(columns={\"MMM-YY\":\"Reporting_Date\"})"
   ]
  },
  {
   "cell_type": "code",
   "execution_count": 11,
   "id": "f2d47fc9",
   "metadata": {},
   "outputs": [
    {
     "name": "stdout",
     "output_type": "stream",
     "text": [
      "<class 'pandas.core.frame.DataFrame'>\n",
      "RangeIndex: 19104 entries, 0 to 19103\n",
      "Data columns (total 14 columns):\n",
      " #   Column                Non-Null Count  Dtype \n",
      "---  ------                --------------  ----- \n",
      " 0   Reporting_Date        19104 non-null  object\n",
      " 1   Emp_ID                19104 non-null  int64 \n",
      " 2   Age                   19104 non-null  int64 \n",
      " 3   Gender                19104 non-null  object\n",
      " 4   City                  19104 non-null  object\n",
      " 5   Education_Level       19104 non-null  object\n",
      " 6   Salary                19104 non-null  int64 \n",
      " 7   Dateofjoining         19104 non-null  object\n",
      " 8   LastWorkingDate       1616 non-null   object\n",
      " 9   Joining Designation   19104 non-null  int64 \n",
      " 10  Designation           19104 non-null  int64 \n",
      " 11  Total Business Value  19104 non-null  int64 \n",
      " 12  Quarterly Rating      19104 non-null  int64 \n",
      " 13  Target                19104 non-null  int64 \n",
      "dtypes: int64(8), object(6)\n",
      "memory usage: 2.0+ MB\n"
     ]
    }
   ],
   "source": [
    "data.info()"
   ]
  },
  {
   "cell_type": "code",
   "execution_count": 12,
   "id": "fe9d7391",
   "metadata": {},
   "outputs": [
    {
     "data": {
      "text/plain": [
       "01-01-2016    1022\n",
       "02-01-2016     944\n",
       "03-01-2016     870\n",
       "12-01-2017     819\n",
       "10-01-2017     818\n",
       "08-01-2017     812\n",
       "09-01-2017     809\n",
       "07-01-2017     806\n",
       "11-01-2017     805\n",
       "12-01-2016     795\n",
       "04-01-2016     794\n",
       "01-01-2017     782\n",
       "11-01-2016     781\n",
       "06-01-2017     770\n",
       "05-01-2017     766\n",
       "05-01-2016     764\n",
       "09-01-2016     762\n",
       "02-01-2017     761\n",
       "07-01-2016     757\n",
       "08-01-2016     754\n",
       "10-01-2016     739\n",
       "04-01-2017     729\n",
       "06-01-2016     726\n",
       "03-01-2017     719\n",
       "Name: Reporting_Date, dtype: int64"
      ]
     },
     "execution_count": 12,
     "metadata": {},
     "output_type": "execute_result"
    }
   ],
   "source": [
    "data.Reporting_Date.value_counts()"
   ]
  },
  {
   "cell_type": "code",
   "execution_count": 13,
   "id": "00af319c",
   "metadata": {},
   "outputs": [
    {
     "data": {
      "image/png": "[encoded data removed]",
      "text/plain": [
       "<Figure size 1080x576 with 1 Axes>"
      ]
     },
     "metadata": {
      "needs_background": "light"
     },
     "output_type": "display_data"
    }
   ],
   "source": [
    "sns.countplot(data.Reporting_Date)\n",
    "plt.title(\"countplot of Reporting_Date\")\n",
    "plt.show()"
   ]
  },
  {
   "cell_type": "code",
   "execution_count": 14,
   "id": "02bfc50c",
   "metadata": {},
   "outputs": [
    {
     "data": {
      "text/html": [
       "<div>\n",
       "<style scoped>\n",
       "    .dataframe tbody tr th:only-of-type {\n",
       "        vertical-align: middle;\n",
       "    }\n",
       "\n",
       "    .dataframe tbody tr th {\n",
       "        vertical-align: top;\n",
       "    }\n",
       "\n",
       "    .dataframe thead th {\n",
       "        text-align: right;\n",
       "    }\n",
       "</style>\n",
       "<table border=\"1\" class=\"dataframe\">\n",
       "  <thead>\n",
       "    <tr style=\"text-align: right;\">\n",
       "      <th></th>\n",
       "      <th>count</th>\n",
       "      <th>mean</th>\n",
       "      <th>std</th>\n",
       "      <th>min</th>\n",
       "      <th>25%</th>\n",
       "      <th>50%</th>\n",
       "      <th>75%</th>\n",
       "      <th>max</th>\n",
       "    </tr>\n",
       "    <tr>\n",
       "      <th>Reporting_Date</th>\n",
       "      <th></th>\n",
       "      <th></th>\n",
       "      <th></th>\n",
       "      <th></th>\n",
       "      <th></th>\n",
       "      <th></th>\n",
       "      <th></th>\n",
       "      <th></th>\n",
       "    </tr>\n",
       "  </thead>\n",
       "  <tbody>\n",
       "    <tr>\n",
       "      <th>01-01-2016</th>\n",
       "      <td>1022.0</td>\n",
       "      <td>0.082192</td>\n",
       "      <td>0.274791</td>\n",
       "      <td>0.0</td>\n",
       "      <td>0.0</td>\n",
       "      <td>0.0</td>\n",
       "      <td>0.0</td>\n",
       "      <td>1.0</td>\n",
       "    </tr>\n",
       "    <tr>\n",
       "      <th>01-01-2017</th>\n",
       "      <td>782.0</td>\n",
       "      <td>0.085678</td>\n",
       "      <td>0.280067</td>\n",
       "      <td>0.0</td>\n",
       "      <td>0.0</td>\n",
       "      <td>0.0</td>\n",
       "      <td>0.0</td>\n",
       "      <td>1.0</td>\n",
       "    </tr>\n",
       "    <tr>\n",
       "      <th>02-01-2016</th>\n",
       "      <td>944.0</td>\n",
       "      <td>0.079449</td>\n",
       "      <td>0.270582</td>\n",
       "      <td>0.0</td>\n",
       "      <td>0.0</td>\n",
       "      <td>0.0</td>\n",
       "      <td>0.0</td>\n",
       "      <td>1.0</td>\n",
       "    </tr>\n",
       "    <tr>\n",
       "      <th>02-01-2017</th>\n",
       "      <td>761.0</td>\n",
       "      <td>0.094612</td>\n",
       "      <td>0.292871</td>\n",
       "      <td>0.0</td>\n",
       "      <td>0.0</td>\n",
       "      <td>0.0</td>\n",
       "      <td>0.0</td>\n",
       "      <td>1.0</td>\n",
       "    </tr>\n",
       "    <tr>\n",
       "      <th>03-01-2016</th>\n",
       "      <td>870.0</td>\n",
       "      <td>0.086207</td>\n",
       "      <td>0.280831</td>\n",
       "      <td>0.0</td>\n",
       "      <td>0.0</td>\n",
       "      <td>0.0</td>\n",
       "      <td>0.0</td>\n",
       "      <td>1.0</td>\n",
       "    </tr>\n",
       "    <tr>\n",
       "      <th>03-01-2017</th>\n",
       "      <td>719.0</td>\n",
       "      <td>0.082058</td>\n",
       "      <td>0.274645</td>\n",
       "      <td>0.0</td>\n",
       "      <td>0.0</td>\n",
       "      <td>0.0</td>\n",
       "      <td>0.0</td>\n",
       "      <td>1.0</td>\n",
       "    </tr>\n",
       "    <tr>\n",
       "      <th>04-01-2016</th>\n",
       "      <td>794.0</td>\n",
       "      <td>0.060453</td>\n",
       "      <td>0.238475</td>\n",
       "      <td>0.0</td>\n",
       "      <td>0.0</td>\n",
       "      <td>0.0</td>\n",
       "      <td>0.0</td>\n",
       "      <td>1.0</td>\n",
       "    </tr>\n",
       "    <tr>\n",
       "      <th>04-01-2017</th>\n",
       "      <td>729.0</td>\n",
       "      <td>0.063100</td>\n",
       "      <td>0.243310</td>\n",
       "      <td>0.0</td>\n",
       "      <td>0.0</td>\n",
       "      <td>0.0</td>\n",
       "      <td>0.0</td>\n",
       "      <td>1.0</td>\n",
       "    </tr>\n",
       "    <tr>\n",
       "      <th>05-01-2016</th>\n",
       "      <td>764.0</td>\n",
       "      <td>0.132199</td>\n",
       "      <td>0.338929</td>\n",
       "      <td>0.0</td>\n",
       "      <td>0.0</td>\n",
       "      <td>0.0</td>\n",
       "      <td>0.0</td>\n",
       "      <td>1.0</td>\n",
       "    </tr>\n",
       "    <tr>\n",
       "      <th>05-01-2017</th>\n",
       "      <td>766.0</td>\n",
       "      <td>0.082245</td>\n",
       "      <td>0.274918</td>\n",
       "      <td>0.0</td>\n",
       "      <td>0.0</td>\n",
       "      <td>0.0</td>\n",
       "      <td>0.0</td>\n",
       "      <td>1.0</td>\n",
       "    </tr>\n",
       "    <tr>\n",
       "      <th>06-01-2016</th>\n",
       "      <td>726.0</td>\n",
       "      <td>0.075758</td>\n",
       "      <td>0.264792</td>\n",
       "      <td>0.0</td>\n",
       "      <td>0.0</td>\n",
       "      <td>0.0</td>\n",
       "      <td>0.0</td>\n",
       "      <td>1.0</td>\n",
       "    </tr>\n",
       "    <tr>\n",
       "      <th>06-01-2017</th>\n",
       "      <td>770.0</td>\n",
       "      <td>0.080519</td>\n",
       "      <td>0.272273</td>\n",
       "      <td>0.0</td>\n",
       "      <td>0.0</td>\n",
       "      <td>0.0</td>\n",
       "      <td>0.0</td>\n",
       "      <td>1.0</td>\n",
       "    </tr>\n",
       "    <tr>\n",
       "      <th>07-01-2016</th>\n",
       "      <td>757.0</td>\n",
       "      <td>0.076618</td>\n",
       "      <td>0.266161</td>\n",
       "      <td>0.0</td>\n",
       "      <td>0.0</td>\n",
       "      <td>0.0</td>\n",
       "      <td>0.0</td>\n",
       "      <td>1.0</td>\n",
       "    </tr>\n",
       "    <tr>\n",
       "      <th>07-01-2017</th>\n",
       "      <td>806.0</td>\n",
       "      <td>0.107940</td>\n",
       "      <td>0.310498</td>\n",
       "      <td>0.0</td>\n",
       "      <td>0.0</td>\n",
       "      <td>0.0</td>\n",
       "      <td>0.0</td>\n",
       "      <td>1.0</td>\n",
       "    </tr>\n",
       "    <tr>\n",
       "      <th>08-01-2016</th>\n",
       "      <td>754.0</td>\n",
       "      <td>0.062334</td>\n",
       "      <td>0.241922</td>\n",
       "      <td>0.0</td>\n",
       "      <td>0.0</td>\n",
       "      <td>0.0</td>\n",
       "      <td>0.0</td>\n",
       "      <td>1.0</td>\n",
       "    </tr>\n",
       "    <tr>\n",
       "      <th>08-01-2017</th>\n",
       "      <td>812.0</td>\n",
       "      <td>0.086207</td>\n",
       "      <td>0.280842</td>\n",
       "      <td>0.0</td>\n",
       "      <td>0.0</td>\n",
       "      <td>0.0</td>\n",
       "      <td>0.0</td>\n",
       "      <td>1.0</td>\n",
       "    </tr>\n",
       "    <tr>\n",
       "      <th>09-01-2016</th>\n",
       "      <td>762.0</td>\n",
       "      <td>0.116798</td>\n",
       "      <td>0.321390</td>\n",
       "      <td>0.0</td>\n",
       "      <td>0.0</td>\n",
       "      <td>0.0</td>\n",
       "      <td>0.0</td>\n",
       "      <td>1.0</td>\n",
       "    </tr>\n",
       "    <tr>\n",
       "      <th>09-01-2017</th>\n",
       "      <td>809.0</td>\n",
       "      <td>0.075402</td>\n",
       "      <td>0.264202</td>\n",
       "      <td>0.0</td>\n",
       "      <td>0.0</td>\n",
       "      <td>0.0</td>\n",
       "      <td>0.0</td>\n",
       "      <td>1.0</td>\n",
       "    </tr>\n",
       "    <tr>\n",
       "      <th>10-01-2016</th>\n",
       "      <td>739.0</td>\n",
       "      <td>0.083897</td>\n",
       "      <td>0.277421</td>\n",
       "      <td>0.0</td>\n",
       "      <td>0.0</td>\n",
       "      <td>0.0</td>\n",
       "      <td>0.0</td>\n",
       "      <td>1.0</td>\n",
       "    </tr>\n",
       "    <tr>\n",
       "      <th>10-01-2017</th>\n",
       "      <td>818.0</td>\n",
       "      <td>0.075795</td>\n",
       "      <td>0.264831</td>\n",
       "      <td>0.0</td>\n",
       "      <td>0.0</td>\n",
       "      <td>0.0</td>\n",
       "      <td>0.0</td>\n",
       "      <td>1.0</td>\n",
       "    </tr>\n",
       "    <tr>\n",
       "      <th>11-01-2016</th>\n",
       "      <td>781.0</td>\n",
       "      <td>0.083227</td>\n",
       "      <td>0.276401</td>\n",
       "      <td>0.0</td>\n",
       "      <td>0.0</td>\n",
       "      <td>0.0</td>\n",
       "      <td>0.0</td>\n",
       "      <td>1.0</td>\n",
       "    </tr>\n",
       "    <tr>\n",
       "      <th>11-01-2017</th>\n",
       "      <td>805.0</td>\n",
       "      <td>0.079503</td>\n",
       "      <td>0.270691</td>\n",
       "      <td>0.0</td>\n",
       "      <td>0.0</td>\n",
       "      <td>0.0</td>\n",
       "      <td>0.0</td>\n",
       "      <td>1.0</td>\n",
       "    </tr>\n",
       "    <tr>\n",
       "      <th>12-01-2016</th>\n",
       "      <td>795.0</td>\n",
       "      <td>0.083019</td>\n",
       "      <td>0.276084</td>\n",
       "      <td>0.0</td>\n",
       "      <td>0.0</td>\n",
       "      <td>0.0</td>\n",
       "      <td>0.0</td>\n",
       "      <td>1.0</td>\n",
       "    </tr>\n",
       "    <tr>\n",
       "      <th>12-01-2017</th>\n",
       "      <td>819.0</td>\n",
       "      <td>0.095238</td>\n",
       "      <td>0.293723</td>\n",
       "      <td>0.0</td>\n",
       "      <td>0.0</td>\n",
       "      <td>0.0</td>\n",
       "      <td>0.0</td>\n",
       "      <td>1.0</td>\n",
       "    </tr>\n",
       "  </tbody>\n",
       "</table>\n",
       "</div>"
      ],
      "text/plain": [
       "                 count      mean       std  min  25%  50%  75%  max\n",
       "Reporting_Date                                                     \n",
       "01-01-2016      1022.0  0.082192  0.274791  0.0  0.0  0.0  0.0  1.0\n",
       "01-01-2017       782.0  0.085678  0.280067  0.0  0.0  0.0  0.0  1.0\n",
       "02-01-2016       944.0  0.079449  0.270582  0.0  0.0  0.0  0.0  1.0\n",
       "02-01-2017       761.0  0.094612  0.292871  0.0  0.0  0.0  0.0  1.0\n",
       "03-01-2016       870.0  0.086207  0.280831  0.0  0.0  0.0  0.0  1.0\n",
       "03-01-2017       719.0  0.082058  0.274645  0.0  0.0  0.0  0.0  1.0\n",
       "04-01-2016       794.0  0.060453  0.238475  0.0  0.0  0.0  0.0  1.0\n",
       "04-01-2017       729.0  0.063100  0.243310  0.0  0.0  0.0  0.0  1.0\n",
       "05-01-2016       764.0  0.132199  0.338929  0.0  0.0  0.0  0.0  1.0\n",
       "05-01-2017       766.0  0.082245  0.274918  0.0  0.0  0.0  0.0  1.0\n",
       "06-01-2016       726.0  0.075758  0.264792  0.0  0.0  0.0  0.0  1.0\n",
       "06-01-2017       770.0  0.080519  0.272273  0.0  0.0  0.0  0.0  1.0\n",
       "07-01-2016       757.0  0.076618  0.266161  0.0  0.0  0.0  0.0  1.0\n",
       "07-01-2017       806.0  0.107940  0.310498  0.0  0.0  0.0  0.0  1.0\n",
       "08-01-2016       754.0  0.062334  0.241922  0.0  0.0  0.0  0.0  1.0\n",
       "08-01-2017       812.0  0.086207  0.280842  0.0  0.0  0.0  0.0  1.0\n",
       "09-01-2016       762.0  0.116798  0.321390  0.0  0.0  0.0  0.0  1.0\n",
       "09-01-2017       809.0  0.075402  0.264202  0.0  0.0  0.0  0.0  1.0\n",
       "10-01-2016       739.0  0.083897  0.277421  0.0  0.0  0.0  0.0  1.0\n",
       "10-01-2017       818.0  0.075795  0.264831  0.0  0.0  0.0  0.0  1.0\n",
       "11-01-2016       781.0  0.083227  0.276401  0.0  0.0  0.0  0.0  1.0\n",
       "11-01-2017       805.0  0.079503  0.270691  0.0  0.0  0.0  0.0  1.0\n",
       "12-01-2016       795.0  0.083019  0.276084  0.0  0.0  0.0  0.0  1.0\n",
       "12-01-2017       819.0  0.095238  0.293723  0.0  0.0  0.0  0.0  1.0"
      ]
     },
     "execution_count": 14,
     "metadata": {},
     "output_type": "execute_result"
    }
   ],
   "source": [
    "data.groupby(\"Reporting_Date\")[\"Target\"].describe()"
   ]
  },
  {
   "cell_type": "code",
   "execution_count": 15,
   "id": "0c301a34",
   "metadata": {},
   "outputs": [],
   "source": [
    "from scipy.stats import chi2_contingency"
   ]
  },
  {
   "cell_type": "code",
   "execution_count": 16,
   "id": "8926f74c",
   "metadata": {},
   "outputs": [
    {
     "name": "stdout",
     "output_type": "stream",
     "text": [
      "Target            0    1\n",
      "Reporting_Date          \n",
      "01-01-2016      938   84\n",
      "01-01-2017      715   67\n",
      "02-01-2016      869   75\n",
      "02-01-2017      689   72\n",
      "03-01-2016      795   75\n",
      "03-01-2017      660   59\n",
      "04-01-2016      746   48\n",
      "04-01-2017      683   46\n",
      "05-01-2016      663  101\n",
      "05-01-2017      703   63\n",
      "06-01-2016      671   55\n",
      "06-01-2017      708   62\n",
      "07-01-2016      699   58\n",
      "07-01-2017      719   87\n",
      "08-01-2016      707   47\n",
      "08-01-2017      742   70\n",
      "09-01-2016      673   89\n",
      "09-01-2017      748   61\n",
      "10-01-2016      677   62\n",
      "10-01-2017      756   62\n",
      "11-01-2016      716   65\n",
      "11-01-2017      741   64\n",
      "12-01-2016      729   66\n",
      "12-01-2017      741   78\n",
      "\n",
      "p value is: 4.231387325099061e-05\n"
     ]
    }
   ],
   "source": [
    "a=pd.crosstab(data.Reporting_Date,data.Target)\n",
    "print(a)\n",
    "b=chi2_contingency(a)\n",
    "print('\\np value is:',b[1])"
   ]
  },
  {
   "cell_type": "code",
   "execution_count": 17,
   "id": "b2e361d9",
   "metadata": {},
   "outputs": [],
   "source": [
    "data.drop(['Reporting_Date'],axis = 1,inplace = True)"
   ]
  },
  {
   "cell_type": "markdown",
   "id": "b2a1f7f3",
   "metadata": {},
   "source": [
    "# Age "
   ]
  },
  {
   "cell_type": "code",
   "execution_count": 18,
   "id": "3de1e78c",
   "metadata": {},
   "outputs": [
    {
     "data": {
      "text/plain": [
       "36    1283\n",
       "33    1250\n",
       "34    1234\n",
       "32    1150\n",
       "30    1146\n",
       "35    1138\n",
       "31    1090\n",
       "29    1013\n",
       "37     862\n",
       "38     854\n",
       "39     788\n",
       "28     772\n",
       "27     752\n",
       "40     706\n",
       "41     661\n",
       "26     583\n",
       "42     478\n",
       "25     449\n",
       "44     407\n",
       "43     399\n",
       "45     371\n",
       "46     350\n",
       "24     277\n",
       "47     224\n",
       "23     193\n",
       "48     144\n",
       "49      99\n",
       "22      92\n",
       "52      78\n",
       "51      72\n",
       "50      69\n",
       "21      41\n",
       "53      26\n",
       "54      25\n",
       "55      21\n",
       "58       7\n",
       "Name: Age, dtype: int64"
      ]
     },
     "execution_count": 18,
     "metadata": {},
     "output_type": "execute_result"
    }
   ],
   "source": [
    "data.Age.value_counts()"
   ]
  },
  {
   "cell_type": "code",
   "execution_count": 19,
   "id": "0212e263",
   "metadata": {},
   "outputs": [
    {
     "data": {
      "text/plain": [
       "count    19104.000000\n",
       "mean        34.650283\n",
       "std          6.264471\n",
       "min         21.000000\n",
       "25%         30.000000\n",
       "50%         34.000000\n",
       "75%         39.000000\n",
       "max         58.000000\n",
       "Name: Age, dtype: float64"
      ]
     },
     "execution_count": 19,
     "metadata": {},
     "output_type": "execute_result"
    }
   ],
   "source": [
    "data.Age.describe()"
   ]
  },
  {
   "cell_type": "code",
   "execution_count": 20,
   "id": "cd91cfd6",
   "metadata": {},
   "outputs": [
    {
     "data": {
      "image/png": "[encoded data removed]",
      "text/plain": [
       "<Figure size 1080x576 with 1 Axes>"
      ]
     },
     "metadata": {
      "needs_background": "light"
     },
     "output_type": "display_data"
    }
   ],
   "source": [
    "sns.countplot(data.Age)\n",
    "plt.title(\"countplot of Age\")\n",
    "plt.show()"
   ]
  },
  {
   "cell_type": "code",
   "execution_count": 21,
   "id": "c41b5fdb",
   "metadata": {},
   "outputs": [
    {
     "data": {
      "image/png": "[encoded data removed]",
      "text/plain": [
       "<Figure size 1080x576 with 1 Axes>"
      ]
     },
     "metadata": {
      "needs_background": "light"
     },
     "output_type": "display_data"
    }
   ],
   "source": [
    "plt.hist(data.Age)\n",
    "plt.title(\"histogram of age\")\n",
    "plt.xlabel(\"distribution of ages\")\n",
    "plt.ylabel(\"ages of employees\")\n",
    "plt.show()"
   ]
  },
  {
   "cell_type": "code",
   "execution_count": 22,
   "id": "40da8610",
   "metadata": {},
   "outputs": [
    {
     "data": {
      "image/png": "[encoded data removed]",
      "text/plain": [
       "<Figure size 1080x576 with 1 Axes>"
      ]
     },
     "metadata": {
      "needs_background": "light"
     },
     "output_type": "display_data"
    }
   ],
   "source": [
    "plt.boxplot(data.Age,vert = False,patch_artist=True)\n",
    "plt.title(\"boxplot of age\")\n",
    "plt.show()"
   ]
  },
  {
   "cell_type": "code",
   "execution_count": 23,
   "id": "3d7c80a1",
   "metadata": {},
   "outputs": [
    {
     "data": {
      "image/png": "[encoded data removed]",
      "text/plain": [
       "<Figure size 720x576 with 1 Axes>"
      ]
     },
     "metadata": {},
     "output_type": "display_data"
    }
   ],
   "source": [
    "Frequency_age=data[\"Age\"].value_counts()\n",
    "keys=Frequency_age.keys().to_list()\n",
    "counts=Frequency_age.to_list()\n",
    "plt.rcParams['figure.figsize'] = [10,8]\n",
    "plt.pie(x=counts,labels=keys,autopct=\"%1.1f%%\")\n",
    "circle=plt.Circle(xy=(0,0),radius=0.1,color=\"white\")\n",
    "plt.gcf()\n",
    "plt.gca().add_artist(circle)\n",
    "plt.title(\"age Distribution\")\n",
    "plt.show()"
   ]
  },
  {
   "cell_type": "code",
   "execution_count": 24,
   "id": "d692a92c",
   "metadata": {},
   "outputs": [],
   "source": [
    "from scipy.stats import ttest_ind"
   ]
  },
  {
   "cell_type": "code",
   "execution_count": 25,
   "id": "a180f206",
   "metadata": {},
   "outputs": [
    {
     "data": {
      "text/plain": [
       "Ttest_indResult(statistic=nan, pvalue=nan)"
      ]
     },
     "execution_count": 25,
     "metadata": {},
     "output_type": "execute_result"
    }
   ],
   "source": [
    "Yes=data[data.Target=='0']\n",
    "No=data[data.Target=='1']\n",
    "ttest_ind(Yes.Age,No.Age)"
   ]
  },
  {
   "cell_type": "code",
   "execution_count": 26,
   "id": "fba66553",
   "metadata": {},
   "outputs": [
    {
     "data": {
      "text/html": [
       "<div>\n",
       "<style scoped>\n",
       "    .dataframe tbody tr th:only-of-type {\n",
       "        vertical-align: middle;\n",
       "    }\n",
       "\n",
       "    .dataframe tbody tr th {\n",
       "        vertical-align: top;\n",
       "    }\n",
       "\n",
       "    .dataframe thead th {\n",
       "        text-align: right;\n",
       "    }\n",
       "</style>\n",
       "<table border=\"1\" class=\"dataframe\">\n",
       "  <thead>\n",
       "    <tr style=\"text-align: right;\">\n",
       "      <th></th>\n",
       "      <th>count</th>\n",
       "      <th>mean</th>\n",
       "      <th>std</th>\n",
       "      <th>min</th>\n",
       "      <th>25%</th>\n",
       "      <th>50%</th>\n",
       "      <th>75%</th>\n",
       "      <th>max</th>\n",
       "    </tr>\n",
       "    <tr>\n",
       "      <th>Age</th>\n",
       "      <th></th>\n",
       "      <th></th>\n",
       "      <th></th>\n",
       "      <th></th>\n",
       "      <th></th>\n",
       "      <th></th>\n",
       "      <th></th>\n",
       "      <th></th>\n",
       "    </tr>\n",
       "  </thead>\n",
       "  <tbody>\n",
       "    <tr>\n",
       "      <th>21</th>\n",
       "      <td>41.0</td>\n",
       "      <td>0.073171</td>\n",
       "      <td>0.263652</td>\n",
       "      <td>0.0</td>\n",
       "      <td>0.0</td>\n",
       "      <td>0.0</td>\n",
       "      <td>0.0</td>\n",
       "      <td>1.0</td>\n",
       "    </tr>\n",
       "    <tr>\n",
       "      <th>22</th>\n",
       "      <td>92.0</td>\n",
       "      <td>0.141304</td>\n",
       "      <td>0.350244</td>\n",
       "      <td>0.0</td>\n",
       "      <td>0.0</td>\n",
       "      <td>0.0</td>\n",
       "      <td>0.0</td>\n",
       "      <td>1.0</td>\n",
       "    </tr>\n",
       "    <tr>\n",
       "      <th>23</th>\n",
       "      <td>193.0</td>\n",
       "      <td>0.139896</td>\n",
       "      <td>0.347782</td>\n",
       "      <td>0.0</td>\n",
       "      <td>0.0</td>\n",
       "      <td>0.0</td>\n",
       "      <td>0.0</td>\n",
       "      <td>1.0</td>\n",
       "    </tr>\n",
       "    <tr>\n",
       "      <th>24</th>\n",
       "      <td>277.0</td>\n",
       "      <td>0.122744</td>\n",
       "      <td>0.328737</td>\n",
       "      <td>0.0</td>\n",
       "      <td>0.0</td>\n",
       "      <td>0.0</td>\n",
       "      <td>0.0</td>\n",
       "      <td>1.0</td>\n",
       "    </tr>\n",
       "    <tr>\n",
       "      <th>25</th>\n",
       "      <td>449.0</td>\n",
       "      <td>0.133630</td>\n",
       "      <td>0.340634</td>\n",
       "      <td>0.0</td>\n",
       "      <td>0.0</td>\n",
       "      <td>0.0</td>\n",
       "      <td>0.0</td>\n",
       "      <td>1.0</td>\n",
       "    </tr>\n",
       "    <tr>\n",
       "      <th>26</th>\n",
       "      <td>583.0</td>\n",
       "      <td>0.094340</td>\n",
       "      <td>0.292552</td>\n",
       "      <td>0.0</td>\n",
       "      <td>0.0</td>\n",
       "      <td>0.0</td>\n",
       "      <td>0.0</td>\n",
       "      <td>1.0</td>\n",
       "    </tr>\n",
       "    <tr>\n",
       "      <th>27</th>\n",
       "      <td>752.0</td>\n",
       "      <td>0.106383</td>\n",
       "      <td>0.308532</td>\n",
       "      <td>0.0</td>\n",
       "      <td>0.0</td>\n",
       "      <td>0.0</td>\n",
       "      <td>0.0</td>\n",
       "      <td>1.0</td>\n",
       "    </tr>\n",
       "    <tr>\n",
       "      <th>28</th>\n",
       "      <td>772.0</td>\n",
       "      <td>0.116580</td>\n",
       "      <td>0.321128</td>\n",
       "      <td>0.0</td>\n",
       "      <td>0.0</td>\n",
       "      <td>0.0</td>\n",
       "      <td>0.0</td>\n",
       "      <td>1.0</td>\n",
       "    </tr>\n",
       "    <tr>\n",
       "      <th>29</th>\n",
       "      <td>1013.0</td>\n",
       "      <td>0.082922</td>\n",
       "      <td>0.275901</td>\n",
       "      <td>0.0</td>\n",
       "      <td>0.0</td>\n",
       "      <td>0.0</td>\n",
       "      <td>0.0</td>\n",
       "      <td>1.0</td>\n",
       "    </tr>\n",
       "    <tr>\n",
       "      <th>30</th>\n",
       "      <td>1146.0</td>\n",
       "      <td>0.085515</td>\n",
       "      <td>0.279768</td>\n",
       "      <td>0.0</td>\n",
       "      <td>0.0</td>\n",
       "      <td>0.0</td>\n",
       "      <td>0.0</td>\n",
       "      <td>1.0</td>\n",
       "    </tr>\n",
       "    <tr>\n",
       "      <th>31</th>\n",
       "      <td>1090.0</td>\n",
       "      <td>0.115596</td>\n",
       "      <td>0.319887</td>\n",
       "      <td>0.0</td>\n",
       "      <td>0.0</td>\n",
       "      <td>0.0</td>\n",
       "      <td>0.0</td>\n",
       "      <td>1.0</td>\n",
       "    </tr>\n",
       "    <tr>\n",
       "      <th>32</th>\n",
       "      <td>1150.0</td>\n",
       "      <td>0.107826</td>\n",
       "      <td>0.310296</td>\n",
       "      <td>0.0</td>\n",
       "      <td>0.0</td>\n",
       "      <td>0.0</td>\n",
       "      <td>0.0</td>\n",
       "      <td>1.0</td>\n",
       "    </tr>\n",
       "    <tr>\n",
       "      <th>33</th>\n",
       "      <td>1250.0</td>\n",
       "      <td>0.082400</td>\n",
       "      <td>0.275083</td>\n",
       "      <td>0.0</td>\n",
       "      <td>0.0</td>\n",
       "      <td>0.0</td>\n",
       "      <td>0.0</td>\n",
       "      <td>1.0</td>\n",
       "    </tr>\n",
       "    <tr>\n",
       "      <th>34</th>\n",
       "      <td>1234.0</td>\n",
       "      <td>0.092382</td>\n",
       "      <td>0.289683</td>\n",
       "      <td>0.0</td>\n",
       "      <td>0.0</td>\n",
       "      <td>0.0</td>\n",
       "      <td>0.0</td>\n",
       "      <td>1.0</td>\n",
       "    </tr>\n",
       "    <tr>\n",
       "      <th>35</th>\n",
       "      <td>1138.0</td>\n",
       "      <td>0.072056</td>\n",
       "      <td>0.258695</td>\n",
       "      <td>0.0</td>\n",
       "      <td>0.0</td>\n",
       "      <td>0.0</td>\n",
       "      <td>0.0</td>\n",
       "      <td>1.0</td>\n",
       "    </tr>\n",
       "    <tr>\n",
       "      <th>36</th>\n",
       "      <td>1283.0</td>\n",
       "      <td>0.065472</td>\n",
       "      <td>0.247453</td>\n",
       "      <td>0.0</td>\n",
       "      <td>0.0</td>\n",
       "      <td>0.0</td>\n",
       "      <td>0.0</td>\n",
       "      <td>1.0</td>\n",
       "    </tr>\n",
       "    <tr>\n",
       "      <th>37</th>\n",
       "      <td>862.0</td>\n",
       "      <td>0.078886</td>\n",
       "      <td>0.269718</td>\n",
       "      <td>0.0</td>\n",
       "      <td>0.0</td>\n",
       "      <td>0.0</td>\n",
       "      <td>0.0</td>\n",
       "      <td>1.0</td>\n",
       "    </tr>\n",
       "    <tr>\n",
       "      <th>38</th>\n",
       "      <td>854.0</td>\n",
       "      <td>0.079625</td>\n",
       "      <td>0.270871</td>\n",
       "      <td>0.0</td>\n",
       "      <td>0.0</td>\n",
       "      <td>0.0</td>\n",
       "      <td>0.0</td>\n",
       "      <td>1.0</td>\n",
       "    </tr>\n",
       "    <tr>\n",
       "      <th>39</th>\n",
       "      <td>788.0</td>\n",
       "      <td>0.071066</td>\n",
       "      <td>0.257098</td>\n",
       "      <td>0.0</td>\n",
       "      <td>0.0</td>\n",
       "      <td>0.0</td>\n",
       "      <td>0.0</td>\n",
       "      <td>1.0</td>\n",
       "    </tr>\n",
       "    <tr>\n",
       "      <th>40</th>\n",
       "      <td>706.0</td>\n",
       "      <td>0.043909</td>\n",
       "      <td>0.205039</td>\n",
       "      <td>0.0</td>\n",
       "      <td>0.0</td>\n",
       "      <td>0.0</td>\n",
       "      <td>0.0</td>\n",
       "      <td>1.0</td>\n",
       "    </tr>\n",
       "    <tr>\n",
       "      <th>41</th>\n",
       "      <td>661.0</td>\n",
       "      <td>0.074130</td>\n",
       "      <td>0.262181</td>\n",
       "      <td>0.0</td>\n",
       "      <td>0.0</td>\n",
       "      <td>0.0</td>\n",
       "      <td>0.0</td>\n",
       "      <td>1.0</td>\n",
       "    </tr>\n",
       "    <tr>\n",
       "      <th>42</th>\n",
       "      <td>478.0</td>\n",
       "      <td>0.073222</td>\n",
       "      <td>0.260773</td>\n",
       "      <td>0.0</td>\n",
       "      <td>0.0</td>\n",
       "      <td>0.0</td>\n",
       "      <td>0.0</td>\n",
       "      <td>1.0</td>\n",
       "    </tr>\n",
       "    <tr>\n",
       "      <th>43</th>\n",
       "      <td>399.0</td>\n",
       "      <td>0.065163</td>\n",
       "      <td>0.247123</td>\n",
       "      <td>0.0</td>\n",
       "      <td>0.0</td>\n",
       "      <td>0.0</td>\n",
       "      <td>0.0</td>\n",
       "      <td>1.0</td>\n",
       "    </tr>\n",
       "    <tr>\n",
       "      <th>44</th>\n",
       "      <td>407.0</td>\n",
       "      <td>0.066339</td>\n",
       "      <td>0.249180</td>\n",
       "      <td>0.0</td>\n",
       "      <td>0.0</td>\n",
       "      <td>0.0</td>\n",
       "      <td>0.0</td>\n",
       "      <td>1.0</td>\n",
       "    </tr>\n",
       "    <tr>\n",
       "      <th>45</th>\n",
       "      <td>371.0</td>\n",
       "      <td>0.053908</td>\n",
       "      <td>0.226142</td>\n",
       "      <td>0.0</td>\n",
       "      <td>0.0</td>\n",
       "      <td>0.0</td>\n",
       "      <td>0.0</td>\n",
       "      <td>1.0</td>\n",
       "    </tr>\n",
       "    <tr>\n",
       "      <th>46</th>\n",
       "      <td>350.0</td>\n",
       "      <td>0.057143</td>\n",
       "      <td>0.232448</td>\n",
       "      <td>0.0</td>\n",
       "      <td>0.0</td>\n",
       "      <td>0.0</td>\n",
       "      <td>0.0</td>\n",
       "      <td>1.0</td>\n",
       "    </tr>\n",
       "    <tr>\n",
       "      <th>47</th>\n",
       "      <td>224.0</td>\n",
       "      <td>0.040179</td>\n",
       "      <td>0.196818</td>\n",
       "      <td>0.0</td>\n",
       "      <td>0.0</td>\n",
       "      <td>0.0</td>\n",
       "      <td>0.0</td>\n",
       "      <td>1.0</td>\n",
       "    </tr>\n",
       "    <tr>\n",
       "      <th>48</th>\n",
       "      <td>144.0</td>\n",
       "      <td>0.048611</td>\n",
       "      <td>0.215804</td>\n",
       "      <td>0.0</td>\n",
       "      <td>0.0</td>\n",
       "      <td>0.0</td>\n",
       "      <td>0.0</td>\n",
       "      <td>1.0</td>\n",
       "    </tr>\n",
       "    <tr>\n",
       "      <th>49</th>\n",
       "      <td>99.0</td>\n",
       "      <td>0.070707</td>\n",
       "      <td>0.257639</td>\n",
       "      <td>0.0</td>\n",
       "      <td>0.0</td>\n",
       "      <td>0.0</td>\n",
       "      <td>0.0</td>\n",
       "      <td>1.0</td>\n",
       "    </tr>\n",
       "    <tr>\n",
       "      <th>50</th>\n",
       "      <td>69.0</td>\n",
       "      <td>0.028986</td>\n",
       "      <td>0.168995</td>\n",
       "      <td>0.0</td>\n",
       "      <td>0.0</td>\n",
       "      <td>0.0</td>\n",
       "      <td>0.0</td>\n",
       "      <td>1.0</td>\n",
       "    </tr>\n",
       "    <tr>\n",
       "      <th>51</th>\n",
       "      <td>72.0</td>\n",
       "      <td>0.083333</td>\n",
       "      <td>0.278325</td>\n",
       "      <td>0.0</td>\n",
       "      <td>0.0</td>\n",
       "      <td>0.0</td>\n",
       "      <td>0.0</td>\n",
       "      <td>1.0</td>\n",
       "    </tr>\n",
       "    <tr>\n",
       "      <th>52</th>\n",
       "      <td>78.0</td>\n",
       "      <td>0.076923</td>\n",
       "      <td>0.268194</td>\n",
       "      <td>0.0</td>\n",
       "      <td>0.0</td>\n",
       "      <td>0.0</td>\n",
       "      <td>0.0</td>\n",
       "      <td>1.0</td>\n",
       "    </tr>\n",
       "    <tr>\n",
       "      <th>53</th>\n",
       "      <td>26.0</td>\n",
       "      <td>0.038462</td>\n",
       "      <td>0.196116</td>\n",
       "      <td>0.0</td>\n",
       "      <td>0.0</td>\n",
       "      <td>0.0</td>\n",
       "      <td>0.0</td>\n",
       "      <td>1.0</td>\n",
       "    </tr>\n",
       "    <tr>\n",
       "      <th>54</th>\n",
       "      <td>25.0</td>\n",
       "      <td>0.000000</td>\n",
       "      <td>0.000000</td>\n",
       "      <td>0.0</td>\n",
       "      <td>0.0</td>\n",
       "      <td>0.0</td>\n",
       "      <td>0.0</td>\n",
       "      <td>0.0</td>\n",
       "    </tr>\n",
       "    <tr>\n",
       "      <th>55</th>\n",
       "      <td>21.0</td>\n",
       "      <td>0.000000</td>\n",
       "      <td>0.000000</td>\n",
       "      <td>0.0</td>\n",
       "      <td>0.0</td>\n",
       "      <td>0.0</td>\n",
       "      <td>0.0</td>\n",
       "      <td>0.0</td>\n",
       "    </tr>\n",
       "    <tr>\n",
       "      <th>58</th>\n",
       "      <td>7.0</td>\n",
       "      <td>0.142857</td>\n",
       "      <td>0.377964</td>\n",
       "      <td>0.0</td>\n",
       "      <td>0.0</td>\n",
       "      <td>0.0</td>\n",
       "      <td>0.0</td>\n",
       "      <td>1.0</td>\n",
       "    </tr>\n",
       "  </tbody>\n",
       "</table>\n",
       "</div>"
      ],
      "text/plain": [
       "      count      mean       std  min  25%  50%  75%  max\n",
       "Age                                                     \n",
       "21     41.0  0.073171  0.263652  0.0  0.0  0.0  0.0  1.0\n",
       "22     92.0  0.141304  0.350244  0.0  0.0  0.0  0.0  1.0\n",
       "23    193.0  0.139896  0.347782  0.0  0.0  0.0  0.0  1.0\n",
       "24    277.0  0.122744  0.328737  0.0  0.0  0.0  0.0  1.0\n",
       "25    449.0  0.133630  0.340634  0.0  0.0  0.0  0.0  1.0\n",
       "26    583.0  0.094340  0.292552  0.0  0.0  0.0  0.0  1.0\n",
       "27    752.0  0.106383  0.308532  0.0  0.0  0.0  0.0  1.0\n",
       "28    772.0  0.116580  0.321128  0.0  0.0  0.0  0.0  1.0\n",
       "29   1013.0  0.082922  0.275901  0.0  0.0  0.0  0.0  1.0\n",
       "30   1146.0  0.085515  0.279768  0.0  0.0  0.0  0.0  1.0\n",
       "31   1090.0  0.115596  0.319887  0.0  0.0  0.0  0.0  1.0\n",
       "32   1150.0  0.107826  0.310296  0.0  0.0  0.0  0.0  1.0\n",
       "33   1250.0  0.082400  0.275083  0.0  0.0  0.0  0.0  1.0\n",
       "34   1234.0  0.092382  0.289683  0.0  0.0  0.0  0.0  1.0\n",
       "35   1138.0  0.072056  0.258695  0.0  0.0  0.0  0.0  1.0\n",
       "36   1283.0  0.065472  0.247453  0.0  0.0  0.0  0.0  1.0\n",
       "37    862.0  0.078886  0.269718  0.0  0.0  0.0  0.0  1.0\n",
       "38    854.0  0.079625  0.270871  0.0  0.0  0.0  0.0  1.0\n",
       "39    788.0  0.071066  0.257098  0.0  0.0  0.0  0.0  1.0\n",
       "40    706.0  0.043909  0.205039  0.0  0.0  0.0  0.0  1.0\n",
       "41    661.0  0.074130  0.262181  0.0  0.0  0.0  0.0  1.0\n",
       "42    478.0  0.073222  0.260773  0.0  0.0  0.0  0.0  1.0\n",
       "43    399.0  0.065163  0.247123  0.0  0.0  0.0  0.0  1.0\n",
       "44    407.0  0.066339  0.249180  0.0  0.0  0.0  0.0  1.0\n",
       "45    371.0  0.053908  0.226142  0.0  0.0  0.0  0.0  1.0\n",
       "46    350.0  0.057143  0.232448  0.0  0.0  0.0  0.0  1.0\n",
       "47    224.0  0.040179  0.196818  0.0  0.0  0.0  0.0  1.0\n",
       "48    144.0  0.048611  0.215804  0.0  0.0  0.0  0.0  1.0\n",
       "49     99.0  0.070707  0.257639  0.0  0.0  0.0  0.0  1.0\n",
       "50     69.0  0.028986  0.168995  0.0  0.0  0.0  0.0  1.0\n",
       "51     72.0  0.083333  0.278325  0.0  0.0  0.0  0.0  1.0\n",
       "52     78.0  0.076923  0.268194  0.0  0.0  0.0  0.0  1.0\n",
       "53     26.0  0.038462  0.196116  0.0  0.0  0.0  0.0  1.0\n",
       "54     25.0  0.000000  0.000000  0.0  0.0  0.0  0.0  0.0\n",
       "55     21.0  0.000000  0.000000  0.0  0.0  0.0  0.0  0.0\n",
       "58      7.0  0.142857  0.377964  0.0  0.0  0.0  0.0  1.0"
      ]
     },
     "execution_count": 26,
     "metadata": {},
     "output_type": "execute_result"
    }
   ],
   "source": [
    "data.groupby(\"Age\")[\"Target\"].describe()"
   ]
  },
  {
   "cell_type": "markdown",
   "id": "6dede63d",
   "metadata": {},
   "source": [
    "#hence it is a good predictor"
   ]
  },
  {
   "cell_type": "markdown",
   "id": "94037e73",
   "metadata": {},
   "source": [
    "# Gender"
   ]
  },
  {
   "cell_type": "code",
   "execution_count": 27,
   "id": "555b6d1f",
   "metadata": {},
   "outputs": [
    {
     "data": {
      "text/plain": [
       "Male      11103\n",
       "Female     8001\n",
       "Name: Gender, dtype: int64"
      ]
     },
     "execution_count": 27,
     "metadata": {},
     "output_type": "execute_result"
    }
   ],
   "source": [
    "data.Gender.value_counts()"
   ]
  },
  {
   "cell_type": "code",
   "execution_count": 28,
   "id": "6562fabd",
   "metadata": {},
   "outputs": [
    {
     "data": {
      "text/plain": [
       "count     19104\n",
       "unique        2\n",
       "top        Male\n",
       "freq      11103\n",
       "Name: Gender, dtype: object"
      ]
     },
     "execution_count": 28,
     "metadata": {},
     "output_type": "execute_result"
    }
   ],
   "source": [
    "data.Gender.describe()"
   ]
  },
  {
   "cell_type": "code",
   "execution_count": 29,
   "id": "c6404538",
   "metadata": {},
   "outputs": [
    {
     "data": {
      "image/png": "[encoded data removed]",
      "text/plain": [
       "<Figure size 720x576 with 1 Axes>"
      ]
     },
     "metadata": {
      "needs_background": "light"
     },
     "output_type": "display_data"
    }
   ],
   "source": [
    "sns.countplot(data.Gender)\n",
    "plt.title(\"countplot of Gender\")\n",
    "plt.show()"
   ]
  },
  {
   "cell_type": "code",
   "execution_count": 30,
   "id": "367a9e7e",
   "metadata": {},
   "outputs": [
    {
     "data": {
      "image/png": "[encoded data removed]",
      "text/plain": [
       "<Figure size 720x576 with 1 Axes>"
      ]
     },
     "metadata": {
      "needs_background": "light"
     },
     "output_type": "display_data"
    }
   ],
   "source": [
    "plt.scatter(x = \"Gender\",y =\"Target\",data=data)\n",
    "plt.title(\"distribution of gender and target\")\n",
    "plt.show()"
   ]
  },
  {
   "cell_type": "code",
   "execution_count": 31,
   "id": "f81ec161",
   "metadata": {},
   "outputs": [
    {
     "data": {
      "text/html": [
       "<div>\n",
       "<style scoped>\n",
       "    .dataframe tbody tr th:only-of-type {\n",
       "        vertical-align: middle;\n",
       "    }\n",
       "\n",
       "    .dataframe tbody tr th {\n",
       "        vertical-align: top;\n",
       "    }\n",
       "\n",
       "    .dataframe thead th {\n",
       "        text-align: right;\n",
       "    }\n",
       "</style>\n",
       "<table border=\"1\" class=\"dataframe\">\n",
       "  <thead>\n",
       "    <tr style=\"text-align: right;\">\n",
       "      <th></th>\n",
       "      <th>count</th>\n",
       "      <th>mean</th>\n",
       "      <th>std</th>\n",
       "      <th>min</th>\n",
       "      <th>25%</th>\n",
       "      <th>50%</th>\n",
       "      <th>75%</th>\n",
       "      <th>max</th>\n",
       "    </tr>\n",
       "    <tr>\n",
       "      <th>Gender</th>\n",
       "      <th></th>\n",
       "      <th></th>\n",
       "      <th></th>\n",
       "      <th></th>\n",
       "      <th></th>\n",
       "      <th></th>\n",
       "      <th></th>\n",
       "      <th></th>\n",
       "    </tr>\n",
       "  </thead>\n",
       "  <tbody>\n",
       "    <tr>\n",
       "      <th>Female</th>\n",
       "      <td>8001.0</td>\n",
       "      <td>0.083490</td>\n",
       "      <td>0.276638</td>\n",
       "      <td>0.0</td>\n",
       "      <td>0.0</td>\n",
       "      <td>0.0</td>\n",
       "      <td>0.0</td>\n",
       "      <td>1.0</td>\n",
       "    </tr>\n",
       "    <tr>\n",
       "      <th>Male</th>\n",
       "      <td>11103.0</td>\n",
       "      <td>0.085382</td>\n",
       "      <td>0.279462</td>\n",
       "      <td>0.0</td>\n",
       "      <td>0.0</td>\n",
       "      <td>0.0</td>\n",
       "      <td>0.0</td>\n",
       "      <td>1.0</td>\n",
       "    </tr>\n",
       "  </tbody>\n",
       "</table>\n",
       "</div>"
      ],
      "text/plain": [
       "          count      mean       std  min  25%  50%  75%  max\n",
       "Gender                                                      \n",
       "Female   8001.0  0.083490  0.276638  0.0  0.0  0.0  0.0  1.0\n",
       "Male    11103.0  0.085382  0.279462  0.0  0.0  0.0  0.0  1.0"
      ]
     },
     "execution_count": 31,
     "metadata": {},
     "output_type": "execute_result"
    }
   ],
   "source": [
    "data.groupby(\"Gender\")[\"Target\"].describe()"
   ]
  },
  {
   "cell_type": "code",
   "execution_count": 32,
   "id": "89202b7b",
   "metadata": {},
   "outputs": [
    {
     "name": "stdout",
     "output_type": "stream",
     "text": [
      "Target      0    1\n",
      "Gender            \n",
      "Female   7333  668\n",
      "Male    10155  948\n",
      "\n",
      "p value is: 0.6617616912687716\n"
     ]
    }
   ],
   "source": [
    "a1=pd.crosstab(data.Gender,data.Target)\n",
    "print(a1)\n",
    "b1=chi2_contingency(a1)\n",
    "print('\\np value is:',b1[1])"
   ]
  },
  {
   "cell_type": "markdown",
   "id": "cd7461a6",
   "metadata": {},
   "source": [
    "#see here  p_value is greater than 0.05 we can consider this as a bad predictor"
   ]
  },
  {
   "cell_type": "markdown",
   "id": "255eb74a",
   "metadata": {},
   "source": [
    "# Education_Level"
   ]
  },
  {
   "cell_type": "code",
   "execution_count": 33,
   "id": "c25ec965",
   "metadata": {},
   "outputs": [
    {
     "data": {
      "text/plain": [
       "Bachelor    6864\n",
       "Master      6327\n",
       "College     5913\n",
       "Name: Education_Level, dtype: int64"
      ]
     },
     "execution_count": 33,
     "metadata": {},
     "output_type": "execute_result"
    }
   ],
   "source": [
    "data.Education_Level.value_counts()"
   ]
  },
  {
   "cell_type": "code",
   "execution_count": 34,
   "id": "b8a6993d",
   "metadata": {},
   "outputs": [
    {
     "data": {
      "text/plain": [
       "count        19104\n",
       "unique           3\n",
       "top       Bachelor\n",
       "freq          6864\n",
       "Name: Education_Level, dtype: object"
      ]
     },
     "execution_count": 34,
     "metadata": {},
     "output_type": "execute_result"
    }
   ],
   "source": [
    "data.Education_Level.describe()"
   ]
  },
  {
   "cell_type": "code",
   "execution_count": 35,
   "id": "8df34714",
   "metadata": {},
   "outputs": [
    {
     "data": {
      "image/png": "[encoded data removed]",
      "text/plain": [
       "<Figure size 720x576 with 1 Axes>"
      ]
     },
     "metadata": {
      "needs_background": "light"
     },
     "output_type": "display_data"
    }
   ],
   "source": [
    "sns.countplot(data.Education_Level)\n",
    "plt.title(\"countplot of Education_Level\")\n",
    "plt.show()"
   ]
  },
  {
   "cell_type": "code",
   "execution_count": 36,
   "id": "d2e81765",
   "metadata": {},
   "outputs": [
    {
     "data": {
      "text/html": [
       "<div>\n",
       "<style scoped>\n",
       "    .dataframe tbody tr th:only-of-type {\n",
       "        vertical-align: middle;\n",
       "    }\n",
       "\n",
       "    .dataframe tbody tr th {\n",
       "        vertical-align: top;\n",
       "    }\n",
       "\n",
       "    .dataframe thead th {\n",
       "        text-align: right;\n",
       "    }\n",
       "</style>\n",
       "<table border=\"1\" class=\"dataframe\">\n",
       "  <thead>\n",
       "    <tr style=\"text-align: right;\">\n",
       "      <th></th>\n",
       "      <th>count</th>\n",
       "      <th>mean</th>\n",
       "      <th>std</th>\n",
       "      <th>min</th>\n",
       "      <th>25%</th>\n",
       "      <th>50%</th>\n",
       "      <th>75%</th>\n",
       "      <th>max</th>\n",
       "    </tr>\n",
       "    <tr>\n",
       "      <th>Education_Level</th>\n",
       "      <th></th>\n",
       "      <th></th>\n",
       "      <th></th>\n",
       "      <th></th>\n",
       "      <th></th>\n",
       "      <th></th>\n",
       "      <th></th>\n",
       "      <th></th>\n",
       "    </tr>\n",
       "  </thead>\n",
       "  <tbody>\n",
       "    <tr>\n",
       "      <th>Bachelor</th>\n",
       "      <td>6864.0</td>\n",
       "      <td>0.076777</td>\n",
       "      <td>0.266257</td>\n",
       "      <td>0.0</td>\n",
       "      <td>0.0</td>\n",
       "      <td>0.0</td>\n",
       "      <td>0.0</td>\n",
       "      <td>1.0</td>\n",
       "    </tr>\n",
       "    <tr>\n",
       "      <th>College</th>\n",
       "      <td>5913.0</td>\n",
       "      <td>0.091662</td>\n",
       "      <td>0.288573</td>\n",
       "      <td>0.0</td>\n",
       "      <td>0.0</td>\n",
       "      <td>0.0</td>\n",
       "      <td>0.0</td>\n",
       "      <td>1.0</td>\n",
       "    </tr>\n",
       "    <tr>\n",
       "      <th>Master</th>\n",
       "      <td>6327.0</td>\n",
       "      <td>0.086455</td>\n",
       "      <td>0.281057</td>\n",
       "      <td>0.0</td>\n",
       "      <td>0.0</td>\n",
       "      <td>0.0</td>\n",
       "      <td>0.0</td>\n",
       "      <td>1.0</td>\n",
       "    </tr>\n",
       "  </tbody>\n",
       "</table>\n",
       "</div>"
      ],
      "text/plain": [
       "                  count      mean       std  min  25%  50%  75%  max\n",
       "Education_Level                                                     \n",
       "Bachelor         6864.0  0.076777  0.266257  0.0  0.0  0.0  0.0  1.0\n",
       "College          5913.0  0.091662  0.288573  0.0  0.0  0.0  0.0  1.0\n",
       "Master           6327.0  0.086455  0.281057  0.0  0.0  0.0  0.0  1.0"
      ]
     },
     "execution_count": 36,
     "metadata": {},
     "output_type": "execute_result"
    }
   ],
   "source": [
    "data.groupby(\"Education_Level\")[\"Target\"].describe()"
   ]
  },
  {
   "cell_type": "code",
   "execution_count": 37,
   "id": "5fdebf89",
   "metadata": {},
   "outputs": [
    {
     "name": "stdout",
     "output_type": "stream",
     "text": [
      "Target              0    1\n",
      "Education_Level           \n",
      "Bachelor         6337  527\n",
      "College          5371  542\n",
      "Master           5780  547\n",
      "\n",
      "p value is: 0.008590427144863038\n"
     ]
    }
   ],
   "source": [
    "a2=pd.crosstab(data.Education_Level,data.Target)\n",
    "print(a2)\n",
    "b2=chi2_contingency(a2)\n",
    "print('\\np value is:',b2[1])"
   ]
  },
  {
   "cell_type": "markdown",
   "id": "55a4e6ba",
   "metadata": {},
   "source": [
    "#hence it iis a good predictor"
   ]
  },
  {
   "cell_type": "markdown",
   "id": "e2bbc9bf",
   "metadata": {},
   "source": [
    "# City"
   ]
  },
  {
   "cell_type": "code",
   "execution_count": 38,
   "id": "4f83c9ce",
   "metadata": {},
   "outputs": [
    {
     "data": {
      "text/plain": [
       "C20    1008\n",
       "C29     900\n",
       "C26     869\n",
       "C22     809\n",
       "C27     786\n",
       "C15     761\n",
       "C10     744\n",
       "C12     727\n",
       "C8      712\n",
       "C16     709\n",
       "C28     683\n",
       "C1      677\n",
       "C6      660\n",
       "C5      656\n",
       "C14     648\n",
       "C3      637\n",
       "C24     614\n",
       "C7      609\n",
       "C21     603\n",
       "C25     584\n",
       "C19     579\n",
       "C4      578\n",
       "C13     569\n",
       "C18     544\n",
       "C23     538\n",
       "C9      520\n",
       "C2      472\n",
       "C11     468\n",
       "C17     440\n",
       "Name: City, dtype: int64"
      ]
     },
     "execution_count": 38,
     "metadata": {},
     "output_type": "execute_result"
    }
   ],
   "source": [
    "data.City.value_counts()"
   ]
  },
  {
   "cell_type": "code",
   "execution_count": 39,
   "id": "6ff4af80",
   "metadata": {},
   "outputs": [
    {
     "data": {
      "text/plain": [
       "count     19104\n",
       "unique       29\n",
       "top         C20\n",
       "freq       1008\n",
       "Name: City, dtype: object"
      ]
     },
     "execution_count": 39,
     "metadata": {},
     "output_type": "execute_result"
    }
   ],
   "source": [
    "data.City.describe()"
   ]
  },
  {
   "cell_type": "code",
   "execution_count": 40,
   "id": "313e4e3e",
   "metadata": {},
   "outputs": [
    {
     "data": {
      "image/png": "[encoded data removed]",
      "text/plain": [
       "<Figure size 720x576 with 1 Axes>"
      ]
     },
     "metadata": {
      "needs_background": "light"
     },
     "output_type": "display_data"
    }
   ],
   "source": [
    "sns.countplot(data.City)\n",
    "plt.title(\"countplot of City\")\n",
    "plt.show()"
   ]
  },
  {
   "cell_type": "code",
   "execution_count": 41,
   "id": "9e3b45f7",
   "metadata": {},
   "outputs": [
    {
     "data": {
      "text/plain": [
       "Text(0.5, 1.0, 'City vs Target')"
      ]
     },
     "execution_count": 41,
     "metadata": {},
     "output_type": "execute_result"
    },
    {
     "data": {
      "text/plain": [
       "<Figure size 1080x36000 with 0 Axes>"
      ]
     },
     "metadata": {},
     "output_type": "display_data"
    },
    {
     "data": {
      "image/png": "[encoded data removed]",
      "text/plain": [
       "<Figure size 360x360 with 1 Axes>"
      ]
     },
     "metadata": {
      "needs_background": "light"
     },
     "output_type": "display_data"
    }
   ],
   "source": [
    "plt.figure(figsize=(15,500))\n",
    "sns.catplot(x = 'City', y = 'Target', kind = 'boxen', data = data)\n",
    "plt.title('City vs Target')"
   ]
  },
  {
   "cell_type": "code",
   "execution_count": 44,
   "id": "2956fccf",
   "metadata": {},
   "outputs": [
    {
     "name": "stdout",
     "output_type": "stream",
     "text": [
      "Target    0    1\n",
      "City            \n",
      "C1      621   56\n",
      "C10     683   61\n",
      "C11     423   45\n",
      "C12     674   53\n",
      "C13     511   58\n",
      "C14     590   58\n",
      "C15     692   69\n",
      "C16     659   50\n",
      "C17     385   55\n",
      "C18     500   44\n",
      "C19     538   41\n",
      "C2      417   55\n",
      "C20     897  111\n",
      "C21     555   48\n",
      "C22     759   50\n",
      "C23     481   57\n",
      "C24     563   51\n",
      "C25     530   54\n",
      "C26     804   65\n",
      "C27     726   60\n",
      "C28     624   59\n",
      "C29     849   51\n",
      "C3      585   52\n",
      "C4      526   52\n",
      "C5      608   48\n",
      "C6      605   55\n",
      "C7      557   52\n",
      "C8      659   53\n",
      "C9      467   53\n",
      "\n",
      "p value is: 0.0010330963203655653\n"
     ]
    }
   ],
   "source": [
    "a3=pd.crosstab(data.City,data.Target)\n",
    "print(a3)\n",
    "b3=chi2_contingency(a3)\n",
    "print('\\np value is:',b3[1])"
   ]
  },
  {
   "cell_type": "code",
   "execution_count": 46,
   "id": "25796795",
   "metadata": {},
   "outputs": [],
   "source": [
    "#here i did chi_contingency because to know that column good or bad"
   ]
  },
  {
   "cell_type": "code",
   "execution_count": 47,
   "id": "93aee745",
   "metadata": {},
   "outputs": [
    {
     "name": "stdout",
     "output_type": "stream",
     "text": [
      "<class 'pandas.core.frame.DataFrame'>\n",
      "RangeIndex: 19104 entries, 0 to 19103\n",
      "Data columns (total 13 columns):\n",
      " #   Column                Non-Null Count  Dtype \n",
      "---  ------                --------------  ----- \n",
      " 0   Emp_ID                19104 non-null  int64 \n",
      " 1   Age                   19104 non-null  int64 \n",
      " 2   Gender                19104 non-null  object\n",
      " 3   City                  19104 non-null  object\n",
      " 4   Education_Level       19104 non-null  object\n",
      " 5   Salary                19104 non-null  int64 \n",
      " 6   Dateofjoining         19104 non-null  object\n",
      " 7   LastWorkingDate       1616 non-null   object\n",
      " 8   Joining Designation   19104 non-null  int64 \n",
      " 9   Designation           19104 non-null  int64 \n",
      " 10  Total Business Value  19104 non-null  int64 \n",
      " 11  Quarterly Rating      19104 non-null  int64 \n",
      " 12  Target                19104 non-null  int64 \n",
      "dtypes: int64(8), object(5)\n",
      "memory usage: 1.9+ MB\n"
     ]
    }
   ],
   "source": [
    "data.info()"
   ]
  },
  {
   "cell_type": "markdown",
   "id": "655d1668",
   "metadata": {},
   "source": [
    "# Salary"
   ]
  },
  {
   "cell_type": "code",
   "execution_count": 48,
   "id": "a970de2f",
   "metadata": {},
   "outputs": [
    {
     "data": {
      "text/plain": [
       "48747     57\n",
       "109652    32\n",
       "68356     30\n",
       "42260     28\n",
       "67490     28\n",
       "          ..\n",
       "59653      1\n",
       "19235      1\n",
       "17186      1\n",
       "49659      1\n",
       "57356      1\n",
       "Name: Salary, Length: 2383, dtype: int64"
      ]
     },
     "execution_count": 48,
     "metadata": {},
     "output_type": "execute_result"
    }
   ],
   "source": [
    "data.Salary.value_counts()"
   ]
  },
  {
   "cell_type": "code",
   "execution_count": 49,
   "id": "079bec21",
   "metadata": {},
   "outputs": [
    {
     "data": {
      "text/plain": [
       "count     19104.000000\n",
       "mean      65652.025126\n",
       "std       30914.515344\n",
       "min       10747.000000\n",
       "25%       42383.000000\n",
       "50%       60087.000000\n",
       "75%       83969.000000\n",
       "max      188418.000000\n",
       "Name: Salary, dtype: float64"
      ]
     },
     "execution_count": 49,
     "metadata": {},
     "output_type": "execute_result"
    }
   ],
   "source": [
    "data.Salary.describe()"
   ]
  },
  {
   "cell_type": "code",
   "execution_count": 50,
   "id": "529594d3",
   "metadata": {},
   "outputs": [
    {
     "data": {
      "image/png": "[encoded data removed]",
      "text/plain": [
       "<Figure size 720x576 with 1 Axes>"
      ]
     },
     "metadata": {
      "needs_background": "light"
     },
     "output_type": "display_data"
    }
   ],
   "source": [
    "plt.hist(data.Salary)\n",
    "plt.title(\"histogram of Salary\")\n",
    "plt.xlabel(\"Salary\")\n",
    "plt.ylabel(\"distribution of Salary\")\n",
    "plt.show()"
   ]
  },
  {
   "cell_type": "code",
   "execution_count": 51,
   "id": "bcb58dbb",
   "metadata": {},
   "outputs": [
    {
     "data": {
      "image/png": "[encoded data removed]",
      "text/plain": [
       "<Figure size 720x576 with 1 Axes>"
      ]
     },
     "metadata": {
      "needs_background": "light"
     },
     "output_type": "display_data"
    }
   ],
   "source": [
    "plt.boxplot(data.Salary,vert = False,patch_artist = True)\n",
    "plt.title(\"boxplot of Salary\")\n",
    "plt.show()"
   ]
  },
  {
   "cell_type": "code",
   "execution_count": 52,
   "id": "005bbb98",
   "metadata": {},
   "outputs": [
    {
     "data": {
      "text/plain": [
       "41586.0"
      ]
     },
     "execution_count": 52,
     "metadata": {},
     "output_type": "execute_result"
    }
   ],
   "source": [
    "IQR = data.Salary.quantile(0.75)-data.Salary.quantile(0.25)\n",
    "IQR"
   ]
  },
  {
   "cell_type": "code",
   "execution_count": 53,
   "id": "820cf824",
   "metadata": {},
   "outputs": [
    {
     "data": {
      "text/plain": [
       "146348.0"
      ]
     },
     "execution_count": 53,
     "metadata": {},
     "output_type": "execute_result"
    }
   ],
   "source": [
    "ul= data.Salary.quantile(0.75)+ (1.5*IQR)\n",
    "ul"
   ]
  },
  {
   "cell_type": "code",
   "execution_count": 54,
   "id": "6767303b",
   "metadata": {},
   "outputs": [
    {
     "data": {
      "text/plain": [
       "188"
      ]
     },
     "execution_count": 54,
     "metadata": {},
     "output_type": "execute_result"
    }
   ],
   "source": [
    "len(data[data.Salary>ul])"
   ]
  },
  {
   "cell_type": "code",
   "execution_count": 55,
   "id": "7a91d618",
   "metadata": {},
   "outputs": [
    {
     "data": {
      "text/plain": [
       "Ttest_indResult(statistic=nan, pvalue=nan)"
      ]
     },
     "execution_count": 55,
     "metadata": {},
     "output_type": "execute_result"
    }
   ],
   "source": [
    "Yes=data[data.Target=='0']\n",
    "No=data[data.Target=='1']\n",
    "ttest_ind(Yes.Salary,No.Salary)"
   ]
  },
  {
   "cell_type": "markdown",
   "id": "02a3a618",
   "metadata": {},
   "source": [
    "# Dateofjoining"
   ]
  },
  {
   "cell_type": "code",
   "execution_count": 56,
   "id": "c4858815",
   "metadata": {},
   "outputs": [
    {
     "data": {
      "text/plain": [
       "7/23/2012     192\n",
       "7/31/2017     150\n",
       "07-04-2016    146\n",
       "4/25/2013     134\n",
       "7/30/2012     118\n",
       "             ... \n",
       "11-10-2015      1\n",
       "5/18/2016       1\n",
       "2/13/2015       1\n",
       "7/23/2015       1\n",
       "9/26/2015       1\n",
       "Name: Dateofjoining, Length: 869, dtype: int64"
      ]
     },
     "execution_count": 56,
     "metadata": {},
     "output_type": "execute_result"
    }
   ],
   "source": [
    "data.Dateofjoining.value_counts()"
   ]
  },
  {
   "cell_type": "code",
   "execution_count": 57,
   "id": "40a6e301",
   "metadata": {},
   "outputs": [
    {
     "data": {
      "text/plain": [
       "count         19104\n",
       "unique          869\n",
       "top       7/23/2012\n",
       "freq            192\n",
       "Name: Dateofjoining, dtype: object"
      ]
     },
     "execution_count": 57,
     "metadata": {},
     "output_type": "execute_result"
    }
   ],
   "source": [
    "data.Dateofjoining.describe()"
   ]
  },
  {
   "cell_type": "code",
   "execution_count": 58,
   "id": "4a66c508",
   "metadata": {},
   "outputs": [
    {
     "data": {
      "image/png": "[encoded data removed]",
      "text/plain": [
       "<Figure size 720x576 with 1 Axes>"
      ]
     },
     "metadata": {
      "needs_background": "light"
     },
     "output_type": "display_data"
    }
   ],
   "source": [
    "plt.hist(data.Dateofjoining)\n",
    "plt.show()"
   ]
  },
  {
   "cell_type": "code",
   "execution_count": 59,
   "id": "bef532ec",
   "metadata": {},
   "outputs": [],
   "source": [
    "data.drop(['Dateofjoining'],axis = 1,inplace = True)"
   ]
  },
  {
   "cell_type": "markdown",
   "id": "c3e96684",
   "metadata": {},
   "source": [
    "# LastWorkingDate"
   ]
  },
  {
   "cell_type": "code",
   "execution_count": 60,
   "id": "1b1cc494",
   "metadata": {},
   "outputs": [],
   "source": [
    "data.drop(['LastWorkingDate'],axis = 1,inplace = True)"
   ]
  },
  {
   "cell_type": "code",
   "execution_count": 61,
   "id": "2a988b3c",
   "metadata": {},
   "outputs": [
    {
     "name": "stdout",
     "output_type": "stream",
     "text": [
      "<class 'pandas.core.frame.DataFrame'>\n",
      "RangeIndex: 19104 entries, 0 to 19103\n",
      "Data columns (total 11 columns):\n",
      " #   Column                Non-Null Count  Dtype \n",
      "---  ------                --------------  ----- \n",
      " 0   Emp_ID                19104 non-null  int64 \n",
      " 1   Age                   19104 non-null  int64 \n",
      " 2   Gender                19104 non-null  object\n",
      " 3   City                  19104 non-null  object\n",
      " 4   Education_Level       19104 non-null  object\n",
      " 5   Salary                19104 non-null  int64 \n",
      " 6   Joining Designation   19104 non-null  int64 \n",
      " 7   Designation           19104 non-null  int64 \n",
      " 8   Total Business Value  19104 non-null  int64 \n",
      " 9   Quarterly Rating      19104 non-null  int64 \n",
      " 10  Target                19104 non-null  int64 \n",
      "dtypes: int64(8), object(3)\n",
      "memory usage: 1.6+ MB\n"
     ]
    }
   ],
   "source": [
    "data.info()"
   ]
  },
  {
   "cell_type": "markdown",
   "id": "d22ee928",
   "metadata": {},
   "source": [
    "# Joining Designation"
   ]
  },
  {
   "cell_type": "code",
   "execution_count": 62,
   "id": "da23fba4",
   "metadata": {},
   "outputs": [
    {
     "data": {
      "text/plain": [
       "1    9831\n",
       "2    5955\n",
       "3    2847\n",
       "4     341\n",
       "5     130\n",
       "Name: Joining Designation, dtype: int64"
      ]
     },
     "execution_count": 62,
     "metadata": {},
     "output_type": "execute_result"
    }
   ],
   "source": [
    "data[\"Joining Designation\"].value_counts()"
   ]
  },
  {
   "cell_type": "code",
   "execution_count": 63,
   "id": "e4398f9f",
   "metadata": {},
   "outputs": [
    {
     "data": {
      "text/plain": [
       "count    19104.000000\n",
       "mean         1.690536\n",
       "std          0.836984\n",
       "min          1.000000\n",
       "25%          1.000000\n",
       "50%          1.000000\n",
       "75%          2.000000\n",
       "max          5.000000\n",
       "Name: Joining Designation, dtype: float64"
      ]
     },
     "execution_count": 63,
     "metadata": {},
     "output_type": "execute_result"
    }
   ],
   "source": [
    "data[\"Joining Designation\"].describe()"
   ]
  },
  {
   "cell_type": "code",
   "execution_count": 64,
   "id": "1eb3a9ee",
   "metadata": {},
   "outputs": [
    {
     "data": {
      "image/png": "[encoded data removed]",
      "text/plain": [
       "<Figure size 720x576 with 1 Axes>"
      ]
     },
     "metadata": {
      "needs_background": "light"
     },
     "output_type": "display_data"
    }
   ],
   "source": [
    "sns.countplot(data[\"Joining Designation\"])\n",
    "plt.title(\"countplot of Joining Designation\")\n",
    "plt.show()"
   ]
  },
  {
   "cell_type": "code",
   "execution_count": 65,
   "id": "18c6ce41",
   "metadata": {},
   "outputs": [
    {
     "name": "stdout",
     "output_type": "stream",
     "text": [
      "Multiple Comparison of Means - Tukey HSD, FWER=0.05\n",
      "===================================================\n",
      "group1 group2 meandiff p-adj   lower  upper  reject\n",
      "---------------------------------------------------\n",
      "     1      2   0.0175 0.0012  0.0051   0.03   True\n",
      "     1      3   0.0197 0.0076  0.0036 0.0359   True\n",
      "     1      4   -0.012    0.9 -0.0538 0.0298  False\n",
      "     1      5   -0.015    0.9 -0.0819  0.052  False\n",
      "     2      3   0.0022    0.9 -0.0151 0.0195  False\n",
      "     2      4  -0.0295 0.3139 -0.0718 0.0127  False\n",
      "     2      5  -0.0325 0.6574 -0.0998 0.0348  False\n",
      "     3      4  -0.0317 0.2706 -0.0752 0.0118  False\n",
      "     3      5  -0.0347 0.6158 -0.1028 0.0333  False\n",
      "     4      5   -0.003    0.9 -0.0812 0.0752  False\n",
      "---------------------------------------------------\n"
     ]
    }
   ],
   "source": [
    "tukey_jd= pairwise_tukeyhsd(data.Target, data[\"Joining Designation\"], alpha = 0.05)\n",
    "print(tukey_jd)"
   ]
  },
  {
   "cell_type": "code",
   "execution_count": 66,
   "id": "150edc14",
   "metadata": {},
   "outputs": [
    {
     "data": {
      "text/html": [
       "<div>\n",
       "<style scoped>\n",
       "    .dataframe tbody tr th:only-of-type {\n",
       "        vertical-align: middle;\n",
       "    }\n",
       "\n",
       "    .dataframe tbody tr th {\n",
       "        vertical-align: top;\n",
       "    }\n",
       "\n",
       "    .dataframe thead th {\n",
       "        text-align: right;\n",
       "    }\n",
       "</style>\n",
       "<table border=\"1\" class=\"dataframe\">\n",
       "  <thead>\n",
       "    <tr style=\"text-align: right;\">\n",
       "      <th></th>\n",
       "      <th>count</th>\n",
       "      <th>mean</th>\n",
       "      <th>std</th>\n",
       "      <th>min</th>\n",
       "      <th>25%</th>\n",
       "      <th>50%</th>\n",
       "      <th>75%</th>\n",
       "      <th>max</th>\n",
       "    </tr>\n",
       "    <tr>\n",
       "      <th>Joining Designation</th>\n",
       "      <th></th>\n",
       "      <th></th>\n",
       "      <th></th>\n",
       "      <th></th>\n",
       "      <th></th>\n",
       "      <th></th>\n",
       "      <th></th>\n",
       "      <th></th>\n",
       "    </tr>\n",
       "  </thead>\n",
       "  <tbody>\n",
       "    <tr>\n",
       "      <th>1</th>\n",
       "      <td>9831.0</td>\n",
       "      <td>0.076493</td>\n",
       "      <td>0.265798</td>\n",
       "      <td>0.0</td>\n",
       "      <td>0.0</td>\n",
       "      <td>0.0</td>\n",
       "      <td>0.0</td>\n",
       "      <td>1.0</td>\n",
       "    </tr>\n",
       "    <tr>\n",
       "      <th>2</th>\n",
       "      <td>5955.0</td>\n",
       "      <td>0.094039</td>\n",
       "      <td>0.291907</td>\n",
       "      <td>0.0</td>\n",
       "      <td>0.0</td>\n",
       "      <td>0.0</td>\n",
       "      <td>0.0</td>\n",
       "      <td>1.0</td>\n",
       "    </tr>\n",
       "    <tr>\n",
       "      <th>3</th>\n",
       "      <td>2847.0</td>\n",
       "      <td>0.096242</td>\n",
       "      <td>0.294974</td>\n",
       "      <td>0.0</td>\n",
       "      <td>0.0</td>\n",
       "      <td>0.0</td>\n",
       "      <td>0.0</td>\n",
       "      <td>1.0</td>\n",
       "    </tr>\n",
       "    <tr>\n",
       "      <th>4</th>\n",
       "      <td>341.0</td>\n",
       "      <td>0.064516</td>\n",
       "      <td>0.246031</td>\n",
       "      <td>0.0</td>\n",
       "      <td>0.0</td>\n",
       "      <td>0.0</td>\n",
       "      <td>0.0</td>\n",
       "      <td>1.0</td>\n",
       "    </tr>\n",
       "    <tr>\n",
       "      <th>5</th>\n",
       "      <td>130.0</td>\n",
       "      <td>0.061538</td>\n",
       "      <td>0.241245</td>\n",
       "      <td>0.0</td>\n",
       "      <td>0.0</td>\n",
       "      <td>0.0</td>\n",
       "      <td>0.0</td>\n",
       "      <td>1.0</td>\n",
       "    </tr>\n",
       "  </tbody>\n",
       "</table>\n",
       "</div>"
      ],
      "text/plain": [
       "                      count      mean       std  min  25%  50%  75%  max\n",
       "Joining Designation                                                     \n",
       "1                    9831.0  0.076493  0.265798  0.0  0.0  0.0  0.0  1.0\n",
       "2                    5955.0  0.094039  0.291907  0.0  0.0  0.0  0.0  1.0\n",
       "3                    2847.0  0.096242  0.294974  0.0  0.0  0.0  0.0  1.0\n",
       "4                     341.0  0.064516  0.246031  0.0  0.0  0.0  0.0  1.0\n",
       "5                     130.0  0.061538  0.241245  0.0  0.0  0.0  0.0  1.0"
      ]
     },
     "execution_count": 66,
     "metadata": {},
     "output_type": "execute_result"
    }
   ],
   "source": [
    "data.groupby([\"Joining Designation\"])[\"Target\"].describe()"
   ]
  },
  {
   "cell_type": "code",
   "execution_count": 67,
   "id": "abaca89f",
   "metadata": {},
   "outputs": [
    {
     "name": "stdout",
     "output_type": "stream",
     "text": [
      "<class 'pandas.core.frame.DataFrame'>\n",
      "RangeIndex: 19104 entries, 0 to 19103\n",
      "Data columns (total 11 columns):\n",
      " #   Column                Non-Null Count  Dtype \n",
      "---  ------                --------------  ----- \n",
      " 0   Emp_ID                19104 non-null  int64 \n",
      " 1   Age                   19104 non-null  int64 \n",
      " 2   Gender                19104 non-null  object\n",
      " 3   City                  19104 non-null  object\n",
      " 4   Education_Level       19104 non-null  object\n",
      " 5   Salary                19104 non-null  int64 \n",
      " 6   Joining Designation   19104 non-null  int64 \n",
      " 7   Designation           19104 non-null  int64 \n",
      " 8   Total Business Value  19104 non-null  int64 \n",
      " 9   Quarterly Rating      19104 non-null  int64 \n",
      " 10  Target                19104 non-null  int64 \n",
      "dtypes: int64(8), object(3)\n",
      "memory usage: 1.6+ MB\n"
     ]
    }
   ],
   "source": [
    "data.info()"
   ]
  },
  {
   "cell_type": "markdown",
   "id": "32cf48a3",
   "metadata": {},
   "source": [
    "# Designation"
   ]
  },
  {
   "cell_type": "code",
   "execution_count": 68,
   "id": "b6288835",
   "metadata": {},
   "outputs": [
    {
     "data": {
      "text/plain": [
       "2    6627\n",
       "1    5202\n",
       "3    4826\n",
       "4    2144\n",
       "5     305\n",
       "Name: Designation, dtype: int64"
      ]
     },
     "execution_count": 68,
     "metadata": {},
     "output_type": "execute_result"
    }
   ],
   "source": [
    "data.Designation.value_counts()"
   ]
  },
  {
   "cell_type": "code",
   "execution_count": 69,
   "id": "a2a3d7db",
   "metadata": {},
   "outputs": [
    {
     "data": {
      "text/plain": [
       "count    19104.000000\n",
       "mean         2.252670\n",
       "std          1.026512\n",
       "min          1.000000\n",
       "25%          1.000000\n",
       "50%          2.000000\n",
       "75%          3.000000\n",
       "max          5.000000\n",
       "Name: Designation, dtype: float64"
      ]
     },
     "execution_count": 69,
     "metadata": {},
     "output_type": "execute_result"
    }
   ],
   "source": [
    "data.Designation.describe()"
   ]
  },
  {
   "cell_type": "code",
   "execution_count": 70,
   "id": "36a52dc6",
   "metadata": {},
   "outputs": [
    {
     "data": {
      "image/png": "[encoded data removed]",
      "text/plain": [
       "<Figure size 720x576 with 1 Axes>"
      ]
     },
     "metadata": {
      "needs_background": "light"
     },
     "output_type": "display_data"
    }
   ],
   "source": [
    "sns.countplot(data.Designation)\n",
    "plt.title(\"countplot of Designation\")\n",
    "plt.show()"
   ]
  },
  {
   "cell_type": "code",
   "execution_count": 71,
   "id": "f92058ef",
   "metadata": {},
   "outputs": [
    {
     "data": {
      "text/html": [
       "<div>\n",
       "<style scoped>\n",
       "    .dataframe tbody tr th:only-of-type {\n",
       "        vertical-align: middle;\n",
       "    }\n",
       "\n",
       "    .dataframe tbody tr th {\n",
       "        vertical-align: top;\n",
       "    }\n",
       "\n",
       "    .dataframe thead th {\n",
       "        text-align: right;\n",
       "    }\n",
       "</style>\n",
       "<table border=\"1\" class=\"dataframe\">\n",
       "  <thead>\n",
       "    <tr style=\"text-align: right;\">\n",
       "      <th></th>\n",
       "      <th>count</th>\n",
       "      <th>mean</th>\n",
       "      <th>std</th>\n",
       "      <th>min</th>\n",
       "      <th>25%</th>\n",
       "      <th>50%</th>\n",
       "      <th>75%</th>\n",
       "      <th>max</th>\n",
       "    </tr>\n",
       "    <tr>\n",
       "      <th>Designation</th>\n",
       "      <th></th>\n",
       "      <th></th>\n",
       "      <th></th>\n",
       "      <th></th>\n",
       "      <th></th>\n",
       "      <th></th>\n",
       "      <th></th>\n",
       "      <th></th>\n",
       "    </tr>\n",
       "  </thead>\n",
       "  <tbody>\n",
       "    <tr>\n",
       "      <th>1</th>\n",
       "      <td>5202.0</td>\n",
       "      <td>0.114571</td>\n",
       "      <td>0.318535</td>\n",
       "      <td>0.0</td>\n",
       "      <td>0.0</td>\n",
       "      <td>0.0</td>\n",
       "      <td>0.0</td>\n",
       "      <td>1.0</td>\n",
       "    </tr>\n",
       "    <tr>\n",
       "      <th>2</th>\n",
       "      <td>6627.0</td>\n",
       "      <td>0.090539</td>\n",
       "      <td>0.286974</td>\n",
       "      <td>0.0</td>\n",
       "      <td>0.0</td>\n",
       "      <td>0.0</td>\n",
       "      <td>0.0</td>\n",
       "      <td>1.0</td>\n",
       "    </tr>\n",
       "    <tr>\n",
       "      <th>3</th>\n",
       "      <td>4826.0</td>\n",
       "      <td>0.069830</td>\n",
       "      <td>0.254887</td>\n",
       "      <td>0.0</td>\n",
       "      <td>0.0</td>\n",
       "      <td>0.0</td>\n",
       "      <td>0.0</td>\n",
       "      <td>1.0</td>\n",
       "    </tr>\n",
       "    <tr>\n",
       "      <th>4</th>\n",
       "      <td>2144.0</td>\n",
       "      <td>0.032649</td>\n",
       "      <td>0.177758</td>\n",
       "      <td>0.0</td>\n",
       "      <td>0.0</td>\n",
       "      <td>0.0</td>\n",
       "      <td>0.0</td>\n",
       "      <td>1.0</td>\n",
       "    </tr>\n",
       "    <tr>\n",
       "      <th>5</th>\n",
       "      <td>305.0</td>\n",
       "      <td>0.042623</td>\n",
       "      <td>0.202338</td>\n",
       "      <td>0.0</td>\n",
       "      <td>0.0</td>\n",
       "      <td>0.0</td>\n",
       "      <td>0.0</td>\n",
       "      <td>1.0</td>\n",
       "    </tr>\n",
       "  </tbody>\n",
       "</table>\n",
       "</div>"
      ],
      "text/plain": [
       "              count      mean       std  min  25%  50%  75%  max\n",
       "Designation                                                     \n",
       "1            5202.0  0.114571  0.318535  0.0  0.0  0.0  0.0  1.0\n",
       "2            6627.0  0.090539  0.286974  0.0  0.0  0.0  0.0  1.0\n",
       "3            4826.0  0.069830  0.254887  0.0  0.0  0.0  0.0  1.0\n",
       "4            2144.0  0.032649  0.177758  0.0  0.0  0.0  0.0  1.0\n",
       "5             305.0  0.042623  0.202338  0.0  0.0  0.0  0.0  1.0"
      ]
     },
     "execution_count": 71,
     "metadata": {},
     "output_type": "execute_result"
    }
   ],
   "source": [
    "data.groupby(\"Designation\")[\"Target\"].describe()"
   ]
  },
  {
   "cell_type": "markdown",
   "id": "16b20b38",
   "metadata": {},
   "source": [
    "# Total Business Value"
   ]
  },
  {
   "cell_type": "code",
   "execution_count": 72,
   "id": "e73c49ad",
   "metadata": {},
   "outputs": [
    {
     "data": {
      "text/plain": [
       "0          6499\n",
       "200000      288\n",
       "250000      148\n",
       "500000      131\n",
       "300000      107\n",
       "           ... \n",
       "515070        1\n",
       "2178050       1\n",
       "920580        1\n",
       "1244170       1\n",
       "400140        1\n",
       "Name: Total Business Value, Length: 10181, dtype: int64"
      ]
     },
     "execution_count": 72,
     "metadata": {},
     "output_type": "execute_result"
    }
   ],
   "source": [
    "data[\"Total Business Value\"].value_counts()"
   ]
  },
  {
   "cell_type": "code",
   "execution_count": 73,
   "id": "378a1886",
   "metadata": {},
   "outputs": [
    {
     "data": {
      "text/plain": [
       "count    1.910400e+04\n",
       "mean     5.716621e+05\n",
       "std      1.128312e+06\n",
       "min     -6.000000e+06\n",
       "25%      0.000000e+00\n",
       "50%      2.500000e+05\n",
       "75%      6.997000e+05\n",
       "max      3.374772e+07\n",
       "Name: Total Business Value, dtype: float64"
      ]
     },
     "execution_count": 73,
     "metadata": {},
     "output_type": "execute_result"
    }
   ],
   "source": [
    "data[\"Total Business Value\"].describe()"
   ]
  },
  {
   "cell_type": "code",
   "execution_count": 74,
   "id": "5f8d1253",
   "metadata": {},
   "outputs": [
    {
     "data": {
      "image/png": "[encoded data removed]",
      "text/plain": [
       "<Figure size 720x576 with 1 Axes>"
      ]
     },
     "metadata": {
      "needs_background": "light"
     },
     "output_type": "display_data"
    }
   ],
   "source": [
    "plt.hist(data[\"Total Business Value\"])\n",
    "plt.show()"
   ]
  },
  {
   "cell_type": "code",
   "execution_count": 75,
   "id": "f1b937ee",
   "metadata": {},
   "outputs": [
    {
     "data": {
      "text/plain": [
       "<function matplotlib.pyplot.show(close=None, block=None)>"
      ]
     },
     "execution_count": 75,
     "metadata": {},
     "output_type": "execute_result"
    },
    {
     "data": {
      "image/png": "[encoded data removed]",
      "text/plain": [
       "<Figure size 720x576 with 1 Axes>"
      ]
     },
     "metadata": {
      "needs_background": "light"
     },
     "output_type": "display_data"
    }
   ],
   "source": [
    "plt.boxplot(data[\"Total Business Value\"],vert = False,patch_artist = True)\n",
    "plt.show"
   ]
  },
  {
   "cell_type": "code",
   "execution_count": 76,
   "id": "c9b63c23",
   "metadata": {},
   "outputs": [
    {
     "data": {
      "text/plain": [
       "699700.0"
      ]
     },
     "execution_count": 76,
     "metadata": {},
     "output_type": "execute_result"
    }
   ],
   "source": [
    "IQR = data[\"Total Business Value\"].quantile(0.75)-data[\"Total Business Value\"].quantile(0.25)\n",
    "IQR"
   ]
  },
  {
   "cell_type": "code",
   "execution_count": 77,
   "id": "1965af52",
   "metadata": {},
   "outputs": [
    {
     "data": {
      "text/plain": [
       "1749250.0"
      ]
     },
     "execution_count": 77,
     "metadata": {},
     "output_type": "execute_result"
    }
   ],
   "source": [
    "upper_limit= data[\"Total Business Value\"].quantile(0.75)+ (1.5*IQR)\n",
    "upper_limit"
   ]
  },
  {
   "cell_type": "code",
   "execution_count": 78,
   "id": "14e2e8d6",
   "metadata": {},
   "outputs": [
    {
     "data": {
      "text/plain": [
       "-1049550.0"
      ]
     },
     "execution_count": 78,
     "metadata": {},
     "output_type": "execute_result"
    }
   ],
   "source": [
    "lower_limit = data[\"Total Business Value\"].quantile(0.25)-(1.5*IQR)\n",
    "lower_limit"
   ]
  },
  {
   "cell_type": "markdown",
   "id": "cfd125a2",
   "metadata": {},
   "source": [
    "# Quarterly Rating"
   ]
  },
  {
   "cell_type": "code",
   "execution_count": 79,
   "id": "faf41e88",
   "metadata": {},
   "outputs": [
    {
     "data": {
      "text/plain": [
       "1    7679\n",
       "2    5553\n",
       "3    3895\n",
       "4    1977\n",
       "Name: Quarterly Rating, dtype: int64"
      ]
     },
     "execution_count": 79,
     "metadata": {},
     "output_type": "execute_result"
    }
   ],
   "source": [
    "data[\"Quarterly Rating\"].value_counts()"
   ]
  },
  {
   "cell_type": "code",
   "execution_count": 80,
   "id": "da824cc2",
   "metadata": {},
   "outputs": [
    {
     "data": {
      "image/png": "[encoded data removed]",
      "text/plain": [
       "<Figure size 720x576 with 1 Axes>"
      ]
     },
     "metadata": {
      "needs_background": "light"
     },
     "output_type": "display_data"
    }
   ],
   "source": [
    "sns.countplot(data[\"Quarterly Rating\"])\n",
    "plt.show()"
   ]
  },
  {
   "cell_type": "code",
   "execution_count": 81,
   "id": "20e6440b",
   "metadata": {},
   "outputs": [
    {
     "data": {
      "text/plain": [
       "count    19104.000000\n",
       "mean         2.008899\n",
       "std          1.009832\n",
       "min          1.000000\n",
       "25%          1.000000\n",
       "50%          2.000000\n",
       "75%          3.000000\n",
       "max          4.000000\n",
       "Name: Quarterly Rating, dtype: float64"
      ]
     },
     "execution_count": 81,
     "metadata": {},
     "output_type": "execute_result"
    }
   ],
   "source": [
    "data[\"Quarterly Rating\"].describe()"
   ]
  },
  {
   "cell_type": "code",
   "execution_count": 82,
   "id": "282af10a",
   "metadata": {},
   "outputs": [
    {
     "data": {
      "text/html": [
       "<div>\n",
       "<style scoped>\n",
       "    .dataframe tbody tr th:only-of-type {\n",
       "        vertical-align: middle;\n",
       "    }\n",
       "\n",
       "    .dataframe tbody tr th {\n",
       "        vertical-align: top;\n",
       "    }\n",
       "\n",
       "    .dataframe thead th {\n",
       "        text-align: right;\n",
       "    }\n",
       "</style>\n",
       "<table border=\"1\" class=\"dataframe\">\n",
       "  <thead>\n",
       "    <tr style=\"text-align: right;\">\n",
       "      <th></th>\n",
       "      <th>count</th>\n",
       "      <th>mean</th>\n",
       "      <th>std</th>\n",
       "      <th>min</th>\n",
       "      <th>25%</th>\n",
       "      <th>50%</th>\n",
       "      <th>75%</th>\n",
       "      <th>max</th>\n",
       "    </tr>\n",
       "    <tr>\n",
       "      <th>Quarterly Rating</th>\n",
       "      <th></th>\n",
       "      <th></th>\n",
       "      <th></th>\n",
       "      <th></th>\n",
       "      <th></th>\n",
       "      <th></th>\n",
       "      <th></th>\n",
       "      <th></th>\n",
       "    </tr>\n",
       "  </thead>\n",
       "  <tbody>\n",
       "    <tr>\n",
       "      <th>1</th>\n",
       "      <td>7679.0</td>\n",
       "      <td>0.186483</td>\n",
       "      <td>0.389521</td>\n",
       "      <td>0.0</td>\n",
       "      <td>0.0</td>\n",
       "      <td>0.0</td>\n",
       "      <td>0.0</td>\n",
       "      <td>1.0</td>\n",
       "    </tr>\n",
       "    <tr>\n",
       "      <th>2</th>\n",
       "      <td>5553.0</td>\n",
       "      <td>0.026292</td>\n",
       "      <td>0.160017</td>\n",
       "      <td>0.0</td>\n",
       "      <td>0.0</td>\n",
       "      <td>0.0</td>\n",
       "      <td>0.0</td>\n",
       "      <td>1.0</td>\n",
       "    </tr>\n",
       "    <tr>\n",
       "      <th>3</th>\n",
       "      <td>3895.0</td>\n",
       "      <td>0.007189</td>\n",
       "      <td>0.084492</td>\n",
       "      <td>0.0</td>\n",
       "      <td>0.0</td>\n",
       "      <td>0.0</td>\n",
       "      <td>0.0</td>\n",
       "      <td>1.0</td>\n",
       "    </tr>\n",
       "    <tr>\n",
       "      <th>4</th>\n",
       "      <td>1977.0</td>\n",
       "      <td>0.005058</td>\n",
       "      <td>0.070959</td>\n",
       "      <td>0.0</td>\n",
       "      <td>0.0</td>\n",
       "      <td>0.0</td>\n",
       "      <td>0.0</td>\n",
       "      <td>1.0</td>\n",
       "    </tr>\n",
       "  </tbody>\n",
       "</table>\n",
       "</div>"
      ],
      "text/plain": [
       "                   count      mean       std  min  25%  50%  75%  max\n",
       "Quarterly Rating                                                     \n",
       "1                 7679.0  0.186483  0.389521  0.0  0.0  0.0  0.0  1.0\n",
       "2                 5553.0  0.026292  0.160017  0.0  0.0  0.0  0.0  1.0\n",
       "3                 3895.0  0.007189  0.084492  0.0  0.0  0.0  0.0  1.0\n",
       "4                 1977.0  0.005058  0.070959  0.0  0.0  0.0  0.0  1.0"
      ]
     },
     "execution_count": 82,
     "metadata": {},
     "output_type": "execute_result"
    }
   ],
   "source": [
    "data.groupby(data[\"Quarterly Rating\"])[\"Target\"].describe()"
   ]
  },
  {
   "cell_type": "code",
   "execution_count": 83,
   "id": "ee4a0e11",
   "metadata": {},
   "outputs": [
    {
     "name": "stdout",
     "output_type": "stream",
     "text": [
      "<class 'pandas.core.frame.DataFrame'>\n",
      "RangeIndex: 19104 entries, 0 to 19103\n",
      "Data columns (total 11 columns):\n",
      " #   Column                Non-Null Count  Dtype \n",
      "---  ------                --------------  ----- \n",
      " 0   Emp_ID                19104 non-null  int64 \n",
      " 1   Age                   19104 non-null  int64 \n",
      " 2   Gender                19104 non-null  object\n",
      " 3   City                  19104 non-null  object\n",
      " 4   Education_Level       19104 non-null  object\n",
      " 5   Salary                19104 non-null  int64 \n",
      " 6   Joining Designation   19104 non-null  int64 \n",
      " 7   Designation           19104 non-null  int64 \n",
      " 8   Total Business Value  19104 non-null  int64 \n",
      " 9   Quarterly Rating      19104 non-null  int64 \n",
      " 10  Target                19104 non-null  int64 \n",
      "dtypes: int64(8), object(3)\n",
      "memory usage: 1.6+ MB\n"
     ]
    }
   ],
   "source": [
    "data.info()"
   ]
  },
  {
   "cell_type": "code",
   "execution_count": 84,
   "id": "49fc7298",
   "metadata": {},
   "outputs": [],
   "source": [
    "data1= data.copy()"
   ]
  },
  {
   "cell_type": "markdown",
   "id": "38bf8097",
   "metadata": {},
   "source": [
    "# i have done group by because the Quarterly rating is done for every 4 months so, for every 4 month  the same employee id is generarted so to overcome the redundency of employee id i did group by"
   ]
  },
  {
   "cell_type": "code",
   "execution_count": 85,
   "id": "3d405bfd",
   "metadata": {},
   "outputs": [],
   "source": [
    "prakash=data1.groupby('Emp_ID')['Emp_ID','Age','Gender','City','Education_Level','Salary','Designation',\"Total Business Value\",\n",
    "                       'Quarterly Rating','Target',\"Joining Designation\"].tail(1)\n",
    "prakash.reset_index(drop=True,inplace=True)\n",
    "prakash1=data1.groupby('Emp_ID').agg({'Total Business Value':'sum'})\n",
    "prakash1.reset_index(drop=True,inplace=True)\n",
    "siv=pd.concat([prakash,prakash1],axis=1,ignore_index=False)"
   ]
  },
  {
   "cell_type": "code",
   "execution_count": 86,
   "id": "33e4ec43",
   "metadata": {},
   "outputs": [
    {
     "name": "stdout",
     "output_type": "stream",
     "text": [
      "<class 'pandas.core.frame.DataFrame'>\n",
      "RangeIndex: 2381 entries, 0 to 2380\n",
      "Data columns (total 12 columns):\n",
      " #   Column                Non-Null Count  Dtype \n",
      "---  ------                --------------  ----- \n",
      " 0   Emp_ID                2381 non-null   int64 \n",
      " 1   Age                   2381 non-null   int64 \n",
      " 2   Gender                2381 non-null   object\n",
      " 3   City                  2381 non-null   object\n",
      " 4   Education_Level       2381 non-null   object\n",
      " 5   Salary                2381 non-null   int64 \n",
      " 6   Designation           2381 non-null   int64 \n",
      " 7   Total Business Value  2381 non-null   int64 \n",
      " 8   Quarterly Rating      2381 non-null   int64 \n",
      " 9   Target                2381 non-null   int64 \n",
      " 10  Joining Designation   2381 non-null   int64 \n",
      " 11  Total Business Value  2381 non-null   int64 \n",
      "dtypes: int64(9), object(3)\n",
      "memory usage: 223.3+ KB\n"
     ]
    }
   ],
   "source": [
    "siv.info()"
   ]
  },
  {
   "cell_type": "code",
   "execution_count": 87,
   "id": "ad4be0c8",
   "metadata": {},
   "outputs": [
    {
     "data": {
      "text/plain": [
       "(2381, 12)"
      ]
     },
     "execution_count": 87,
     "metadata": {},
     "output_type": "execute_result"
    }
   ],
   "source": [
    "siv.shape"
   ]
  },
  {
   "cell_type": "code",
   "execution_count": 88,
   "id": "7e538e32",
   "metadata": {},
   "outputs": [],
   "source": [
    "emp = siv[\"Emp_ID\"]"
   ]
  },
  {
   "cell_type": "code",
   "execution_count": 89,
   "id": "cfdbe487",
   "metadata": {},
   "outputs": [],
   "source": [
    "from sklearn.preprocessing import StandardScaler\n",
    "stc=StandardScaler()"
   ]
  },
  {
   "cell_type": "code",
   "execution_count": 90,
   "id": "354b8eef",
   "metadata": {},
   "outputs": [
    {
     "data": {
      "text/html": [
       "<div>\n",
       "<style scoped>\n",
       "    .dataframe tbody tr th:only-of-type {\n",
       "        vertical-align: middle;\n",
       "    }\n",
       "\n",
       "    .dataframe tbody tr th {\n",
       "        vertical-align: top;\n",
       "    }\n",
       "\n",
       "    .dataframe thead th {\n",
       "        text-align: right;\n",
       "    }\n",
       "</style>\n",
       "<table border=\"1\" class=\"dataframe\">\n",
       "  <thead>\n",
       "    <tr style=\"text-align: right;\">\n",
       "      <th></th>\n",
       "      <th>Emp_ID</th>\n",
       "      <th>Age</th>\n",
       "      <th>Gender</th>\n",
       "      <th>City</th>\n",
       "      <th>Education_Level</th>\n",
       "      <th>Salary</th>\n",
       "      <th>Designation</th>\n",
       "      <th>Total Business Value</th>\n",
       "      <th>Quarterly Rating</th>\n",
       "      <th>Target</th>\n",
       "      <th>Joining Designation</th>\n",
       "      <th>Total Business Value</th>\n",
       "    </tr>\n",
       "  </thead>\n",
       "  <tbody>\n",
       "    <tr>\n",
       "      <th>0</th>\n",
       "      <td>1</td>\n",
       "      <td>28</td>\n",
       "      <td>Male</td>\n",
       "      <td>C23</td>\n",
       "      <td>Master</td>\n",
       "      <td>57387</td>\n",
       "      <td>1</td>\n",
       "      <td>0</td>\n",
       "      <td>2</td>\n",
       "      <td>1</td>\n",
       "      <td>1</td>\n",
       "      <td>1715580</td>\n",
       "    </tr>\n",
       "    <tr>\n",
       "      <th>1</th>\n",
       "      <td>2</td>\n",
       "      <td>31</td>\n",
       "      <td>Male</td>\n",
       "      <td>C7</td>\n",
       "      <td>Master</td>\n",
       "      <td>67016</td>\n",
       "      <td>2</td>\n",
       "      <td>0</td>\n",
       "      <td>1</td>\n",
       "      <td>0</td>\n",
       "      <td>2</td>\n",
       "      <td>0</td>\n",
       "    </tr>\n",
       "    <tr>\n",
       "      <th>2</th>\n",
       "      <td>4</td>\n",
       "      <td>43</td>\n",
       "      <td>Male</td>\n",
       "      <td>C13</td>\n",
       "      <td>Master</td>\n",
       "      <td>65603</td>\n",
       "      <td>2</td>\n",
       "      <td>0</td>\n",
       "      <td>1</td>\n",
       "      <td>1</td>\n",
       "      <td>2</td>\n",
       "      <td>350000</td>\n",
       "    </tr>\n",
       "    <tr>\n",
       "      <th>3</th>\n",
       "      <td>5</td>\n",
       "      <td>29</td>\n",
       "      <td>Male</td>\n",
       "      <td>C9</td>\n",
       "      <td>College</td>\n",
       "      <td>46368</td>\n",
       "      <td>1</td>\n",
       "      <td>0</td>\n",
       "      <td>1</td>\n",
       "      <td>1</td>\n",
       "      <td>1</td>\n",
       "      <td>120360</td>\n",
       "    </tr>\n",
       "    <tr>\n",
       "      <th>4</th>\n",
       "      <td>6</td>\n",
       "      <td>31</td>\n",
       "      <td>Female</td>\n",
       "      <td>C11</td>\n",
       "      <td>Bachelor</td>\n",
       "      <td>78728</td>\n",
       "      <td>3</td>\n",
       "      <td>0</td>\n",
       "      <td>2</td>\n",
       "      <td>0</td>\n",
       "      <td>3</td>\n",
       "      <td>1265000</td>\n",
       "    </tr>\n",
       "  </tbody>\n",
       "</table>\n",
       "</div>"
      ],
      "text/plain": [
       "   Emp_ID  Age  Gender City Education_Level  Salary  Designation  \\\n",
       "0       1   28    Male  C23          Master   57387            1   \n",
       "1       2   31    Male   C7          Master   67016            2   \n",
       "2       4   43    Male  C13          Master   65603            2   \n",
       "3       5   29    Male   C9         College   46368            1   \n",
       "4       6   31  Female  C11        Bachelor   78728            3   \n",
       "\n",
       "   Total Business Value  Quarterly Rating  Target  Joining Designation  \\\n",
       "0                     0                 2       1                    1   \n",
       "1                     0                 1       0                    2   \n",
       "2                     0                 1       1                    2   \n",
       "3                     0                 1       1                    1   \n",
       "4                     0                 2       0                    3   \n",
       "\n",
       "   Total Business Value  \n",
       "0               1715580  \n",
       "1                     0  \n",
       "2                350000  \n",
       "3                120360  \n",
       "4               1265000  "
      ]
     },
     "execution_count": 90,
     "metadata": {},
     "output_type": "execute_result"
    }
   ],
   "source": [
    "siv.head()"
   ]
  },
  {
   "cell_type": "code",
   "execution_count": 91,
   "id": "759f98aa",
   "metadata": {},
   "outputs": [],
   "source": [
    "#StandardScaler removes the mean and scales each feature/variable to unit variance. This operation is performed feature-wise in an independent way. StandardScaler can be influenced by outliers (if they exist in the dataset) since it involves the estimation of the empirical mean and standard deviation of each feature"
   ]
  },
  {
   "cell_type": "code",
   "execution_count": 92,
   "id": "1a2af5d1",
   "metadata": {},
   "outputs": [],
   "source": [
    "p=siv[['Age','Salary','Total Business Value']]"
   ]
  },
  {
   "cell_type": "code",
   "execution_count": 93,
   "id": "00870625",
   "metadata": {},
   "outputs": [],
   "source": [
    "scaled_array=stc.fit_transform(p)"
   ]
  },
  {
   "cell_type": "code",
   "execution_count": 94,
   "id": "90881f20",
   "metadata": {},
   "outputs": [
    {
     "data": {
      "text/plain": [
       "array([[-0.94668243, -0.06861573, -0.23515458, -0.31464103],\n",
       "       [-0.44518787,  0.27069993, -0.23515458, -0.50264571],\n",
       "       [ 1.56079034,  0.22090732, -0.23515458, -0.46429038],\n",
       "       ...,\n",
       "       [ 1.89512005, -0.84447128, -0.23515458, -0.1941494 ],\n",
       "       [-0.94668243,  0.35816296, -0.23515458, -0.39548858],\n",
       "       [-0.61235272,  0.38480359,  0.12756093, -0.25078927]])"
      ]
     },
     "execution_count": 94,
     "metadata": {},
     "output_type": "execute_result"
    }
   ],
   "source": [
    "scaled_array"
   ]
  },
  {
   "cell_type": "code",
   "execution_count": 95,
   "id": "31e15b74",
   "metadata": {},
   "outputs": [],
   "source": [
    "scaled_num=pd.DataFrame(scaled_array,columns=p.columns)#created dataframe because scaled in num_array formate"
   ]
  },
  {
   "cell_type": "code",
   "execution_count": 96,
   "id": "d56776e6",
   "metadata": {},
   "outputs": [],
   "source": [
    "cat=siv[['Gender','City','Education_Level']]"
   ]
  },
  {
   "cell_type": "code",
   "execution_count": 97,
   "id": "c6c33180",
   "metadata": {},
   "outputs": [
    {
     "data": {
      "text/html": [
       "<div>\n",
       "<style scoped>\n",
       "    .dataframe tbody tr th:only-of-type {\n",
       "        vertical-align: middle;\n",
       "    }\n",
       "\n",
       "    .dataframe tbody tr th {\n",
       "        vertical-align: top;\n",
       "    }\n",
       "\n",
       "    .dataframe thead th {\n",
       "        text-align: right;\n",
       "    }\n",
       "</style>\n",
       "<table border=\"1\" class=\"dataframe\">\n",
       "  <thead>\n",
       "    <tr style=\"text-align: right;\">\n",
       "      <th></th>\n",
       "      <th>Gender</th>\n",
       "      <th>City</th>\n",
       "      <th>Education_Level</th>\n",
       "    </tr>\n",
       "  </thead>\n",
       "  <tbody>\n",
       "    <tr>\n",
       "      <th>0</th>\n",
       "      <td>Male</td>\n",
       "      <td>C23</td>\n",
       "      <td>Master</td>\n",
       "    </tr>\n",
       "    <tr>\n",
       "      <th>1</th>\n",
       "      <td>Male</td>\n",
       "      <td>C7</td>\n",
       "      <td>Master</td>\n",
       "    </tr>\n",
       "    <tr>\n",
       "      <th>2</th>\n",
       "      <td>Male</td>\n",
       "      <td>C13</td>\n",
       "      <td>Master</td>\n",
       "    </tr>\n",
       "    <tr>\n",
       "      <th>3</th>\n",
       "      <td>Male</td>\n",
       "      <td>C9</td>\n",
       "      <td>College</td>\n",
       "    </tr>\n",
       "    <tr>\n",
       "      <th>4</th>\n",
       "      <td>Female</td>\n",
       "      <td>C11</td>\n",
       "      <td>Bachelor</td>\n",
       "    </tr>\n",
       "  </tbody>\n",
       "</table>\n",
       "</div>"
      ],
      "text/plain": [
       "   Gender City Education_Level\n",
       "0    Male  C23          Master\n",
       "1    Male   C7          Master\n",
       "2    Male  C13          Master\n",
       "3    Male   C9         College\n",
       "4  Female  C11        Bachelor"
      ]
     },
     "execution_count": 97,
     "metadata": {},
     "output_type": "execute_result"
    }
   ],
   "source": [
    "cat.head()"
   ]
  },
  {
   "cell_type": "code",
   "execution_count": 98,
   "id": "52b301cc",
   "metadata": {},
   "outputs": [],
   "source": [
    "#LabelEncoder can be used to normalize labels. It can also be used to transform non-numerical labels (as long as they are hashable and comparable) to numerical labels. Fit label encoder."
   ]
  },
  {
   "cell_type": "code",
   "execution_count": 99,
   "id": "d508229c",
   "metadata": {},
   "outputs": [],
   "source": [
    "from sklearn.preprocessing import LabelEncoder\n",
    "le=LabelEncoder()\n",
    "cat['Gender']=le.fit_transform(cat['Gender'])\n",
    "cat['City']=le.fit_transform(cat['City'])\n",
    "cat['Education_Level']=le.fit_transform(cat['Education_Level'])"
   ]
  },
  {
   "cell_type": "code",
   "execution_count": 100,
   "id": "e79d9a75",
   "metadata": {},
   "outputs": [
    {
     "data": {
      "text/html": [
       "<div>\n",
       "<style scoped>\n",
       "    .dataframe tbody tr th:only-of-type {\n",
       "        vertical-align: middle;\n",
       "    }\n",
       "\n",
       "    .dataframe tbody tr th {\n",
       "        vertical-align: top;\n",
       "    }\n",
       "\n",
       "    .dataframe thead th {\n",
       "        text-align: right;\n",
       "    }\n",
       "</style>\n",
       "<table border=\"1\" class=\"dataframe\">\n",
       "  <thead>\n",
       "    <tr style=\"text-align: right;\">\n",
       "      <th></th>\n",
       "      <th>Gender</th>\n",
       "      <th>City</th>\n",
       "      <th>Education_Level</th>\n",
       "    </tr>\n",
       "  </thead>\n",
       "  <tbody>\n",
       "    <tr>\n",
       "      <th>0</th>\n",
       "      <td>1</td>\n",
       "      <td>15</td>\n",
       "      <td>2</td>\n",
       "    </tr>\n",
       "    <tr>\n",
       "      <th>1</th>\n",
       "      <td>1</td>\n",
       "      <td>26</td>\n",
       "      <td>2</td>\n",
       "    </tr>\n",
       "    <tr>\n",
       "      <th>2</th>\n",
       "      <td>1</td>\n",
       "      <td>4</td>\n",
       "      <td>2</td>\n",
       "    </tr>\n",
       "    <tr>\n",
       "      <th>3</th>\n",
       "      <td>1</td>\n",
       "      <td>28</td>\n",
       "      <td>1</td>\n",
       "    </tr>\n",
       "    <tr>\n",
       "      <th>4</th>\n",
       "      <td>0</td>\n",
       "      <td>2</td>\n",
       "      <td>0</td>\n",
       "    </tr>\n",
       "  </tbody>\n",
       "</table>\n",
       "</div>"
      ],
      "text/plain": [
       "   Gender  City  Education_Level\n",
       "0       1    15                2\n",
       "1       1    26                2\n",
       "2       1     4                2\n",
       "3       1    28                1\n",
       "4       0     2                0"
      ]
     },
     "execution_count": 100,
     "metadata": {},
     "output_type": "execute_result"
    }
   ],
   "source": [
    "cat.head(5)"
   ]
  },
  {
   "cell_type": "code",
   "execution_count": 101,
   "id": "263c175b",
   "metadata": {},
   "outputs": [],
   "source": [
    "pra=siv[['Designation','Quarterly Rating','Target',\"Joining Designation\"]]"
   ]
  },
  {
   "cell_type": "code",
   "execution_count": 102,
   "id": "166295ea",
   "metadata": {},
   "outputs": [],
   "source": [
    "DF=pd.concat([scaled_num,cat],axis=1)"
   ]
  },
  {
   "cell_type": "code",
   "execution_count": 103,
   "id": "894db252",
   "metadata": {},
   "outputs": [],
   "source": [
    "df=pd.concat([DF,pra],axis=1)"
   ]
  },
  {
   "cell_type": "code",
   "execution_count": 104,
   "id": "df346334",
   "metadata": {},
   "outputs": [],
   "source": [
    "pro= pd.concat([df,emp],axis = 1)"
   ]
  },
  {
   "cell_type": "code",
   "execution_count": 105,
   "id": "50274f91",
   "metadata": {},
   "outputs": [
    {
     "data": {
      "text/html": [
       "<div>\n",
       "<style scoped>\n",
       "    .dataframe tbody tr th:only-of-type {\n",
       "        vertical-align: middle;\n",
       "    }\n",
       "\n",
       "    .dataframe tbody tr th {\n",
       "        vertical-align: top;\n",
       "    }\n",
       "\n",
       "    .dataframe thead th {\n",
       "        text-align: right;\n",
       "    }\n",
       "</style>\n",
       "<table border=\"1\" class=\"dataframe\">\n",
       "  <thead>\n",
       "    <tr style=\"text-align: right;\">\n",
       "      <th></th>\n",
       "      <th>Age</th>\n",
       "      <th>Salary</th>\n",
       "      <th>Total Business Value</th>\n",
       "      <th>Total Business Value</th>\n",
       "      <th>Gender</th>\n",
       "      <th>City</th>\n",
       "      <th>Education_Level</th>\n",
       "      <th>Designation</th>\n",
       "      <th>Quarterly Rating</th>\n",
       "      <th>Target</th>\n",
       "      <th>Joining Designation</th>\n",
       "      <th>Emp_ID</th>\n",
       "    </tr>\n",
       "  </thead>\n",
       "  <tbody>\n",
       "    <tr>\n",
       "      <th>0</th>\n",
       "      <td>-0.946682</td>\n",
       "      <td>-0.068616</td>\n",
       "      <td>-0.235155</td>\n",
       "      <td>-0.314641</td>\n",
       "      <td>1</td>\n",
       "      <td>15</td>\n",
       "      <td>2</td>\n",
       "      <td>1</td>\n",
       "      <td>2</td>\n",
       "      <td>1</td>\n",
       "      <td>1</td>\n",
       "      <td>1</td>\n",
       "    </tr>\n",
       "    <tr>\n",
       "      <th>1</th>\n",
       "      <td>-0.445188</td>\n",
       "      <td>0.270700</td>\n",
       "      <td>-0.235155</td>\n",
       "      <td>-0.502646</td>\n",
       "      <td>1</td>\n",
       "      <td>26</td>\n",
       "      <td>2</td>\n",
       "      <td>2</td>\n",
       "      <td>1</td>\n",
       "      <td>0</td>\n",
       "      <td>2</td>\n",
       "      <td>2</td>\n",
       "    </tr>\n",
       "    <tr>\n",
       "      <th>2</th>\n",
       "      <td>1.560790</td>\n",
       "      <td>0.220907</td>\n",
       "      <td>-0.235155</td>\n",
       "      <td>-0.464290</td>\n",
       "      <td>1</td>\n",
       "      <td>4</td>\n",
       "      <td>2</td>\n",
       "      <td>2</td>\n",
       "      <td>1</td>\n",
       "      <td>1</td>\n",
       "      <td>2</td>\n",
       "      <td>4</td>\n",
       "    </tr>\n",
       "    <tr>\n",
       "      <th>3</th>\n",
       "      <td>-0.779518</td>\n",
       "      <td>-0.456914</td>\n",
       "      <td>-0.235155</td>\n",
       "      <td>-0.489456</td>\n",
       "      <td>1</td>\n",
       "      <td>28</td>\n",
       "      <td>1</td>\n",
       "      <td>1</td>\n",
       "      <td>1</td>\n",
       "      <td>1</td>\n",
       "      <td>1</td>\n",
       "      <td>5</td>\n",
       "    </tr>\n",
       "    <tr>\n",
       "      <th>4</th>\n",
       "      <td>-0.445188</td>\n",
       "      <td>0.683418</td>\n",
       "      <td>-0.235155</td>\n",
       "      <td>-0.364019</td>\n",
       "      <td>0</td>\n",
       "      <td>2</td>\n",
       "      <td>0</td>\n",
       "      <td>3</td>\n",
       "      <td>2</td>\n",
       "      <td>0</td>\n",
       "      <td>3</td>\n",
       "      <td>6</td>\n",
       "    </tr>\n",
       "    <tr>\n",
       "      <th>...</th>\n",
       "      <td>...</td>\n",
       "      <td>...</td>\n",
       "      <td>...</td>\n",
       "      <td>...</td>\n",
       "      <td>...</td>\n",
       "      <td>...</td>\n",
       "      <td>...</td>\n",
       "      <td>...</td>\n",
       "      <td>...</td>\n",
       "      <td>...</td>\n",
       "      <td>...</td>\n",
       "      <td>...</td>\n",
       "    </tr>\n",
       "    <tr>\n",
       "      <th>2376</th>\n",
       "      <td>0.056307</td>\n",
       "      <td>0.827440</td>\n",
       "      <td>0.210421</td>\n",
       "      <td>1.880735</td>\n",
       "      <td>1</td>\n",
       "      <td>16</td>\n",
       "      <td>1</td>\n",
       "      <td>3</td>\n",
       "      <td>4</td>\n",
       "      <td>0</td>\n",
       "      <td>2</td>\n",
       "      <td>2784</td>\n",
       "    </tr>\n",
       "    <tr>\n",
       "      <th>2377</th>\n",
       "      <td>0.056307</td>\n",
       "      <td>-1.664305</td>\n",
       "      <td>-0.235155</td>\n",
       "      <td>-0.502646</td>\n",
       "      <td>0</td>\n",
       "      <td>28</td>\n",
       "      <td>1</td>\n",
       "      <td>1</td>\n",
       "      <td>1</td>\n",
       "      <td>1</td>\n",
       "      <td>1</td>\n",
       "      <td>2785</td>\n",
       "    </tr>\n",
       "    <tr>\n",
       "      <th>2378</th>\n",
       "      <td>1.895120</td>\n",
       "      <td>-0.844471</td>\n",
       "      <td>-0.235155</td>\n",
       "      <td>-0.194149</td>\n",
       "      <td>1</td>\n",
       "      <td>10</td>\n",
       "      <td>1</td>\n",
       "      <td>2</td>\n",
       "      <td>1</td>\n",
       "      <td>1</td>\n",
       "      <td>2</td>\n",
       "      <td>2786</td>\n",
       "    </tr>\n",
       "    <tr>\n",
       "      <th>2379</th>\n",
       "      <td>-0.946682</td>\n",
       "      <td>0.358163</td>\n",
       "      <td>-0.235155</td>\n",
       "      <td>-0.395489</td>\n",
       "      <td>0</td>\n",
       "      <td>12</td>\n",
       "      <td>2</td>\n",
       "      <td>1</td>\n",
       "      <td>1</td>\n",
       "      <td>1</td>\n",
       "      <td>1</td>\n",
       "      <td>2787</td>\n",
       "    </tr>\n",
       "    <tr>\n",
       "      <th>2380</th>\n",
       "      <td>-0.612353</td>\n",
       "      <td>0.384804</td>\n",
       "      <td>0.127561</td>\n",
       "      <td>-0.250789</td>\n",
       "      <td>1</td>\n",
       "      <td>19</td>\n",
       "      <td>2</td>\n",
       "      <td>2</td>\n",
       "      <td>2</td>\n",
       "      <td>0</td>\n",
       "      <td>2</td>\n",
       "      <td>2788</td>\n",
       "    </tr>\n",
       "  </tbody>\n",
       "</table>\n",
       "<p>2381 rows × 12 columns</p>\n",
       "</div>"
      ],
      "text/plain": [
       "           Age    Salary  Total Business Value  Total Business Value  Gender  \\\n",
       "0    -0.946682 -0.068616             -0.235155             -0.314641       1   \n",
       "1    -0.445188  0.270700             -0.235155             -0.502646       1   \n",
       "2     1.560790  0.220907             -0.235155             -0.464290       1   \n",
       "3    -0.779518 -0.456914             -0.235155             -0.489456       1   \n",
       "4    -0.445188  0.683418             -0.235155             -0.364019       0   \n",
       "...        ...       ...                   ...                   ...     ...   \n",
       "2376  0.056307  0.827440              0.210421              1.880735       1   \n",
       "2377  0.056307 -1.664305             -0.235155             -0.502646       0   \n",
       "2378  1.895120 -0.844471             -0.235155             -0.194149       1   \n",
       "2379 -0.946682  0.358163             -0.235155             -0.395489       0   \n",
       "2380 -0.612353  0.384804              0.127561             -0.250789       1   \n",
       "\n",
       "      City  Education_Level  Designation  Quarterly Rating  Target  \\\n",
       "0       15                2            1                 2       1   \n",
       "1       26                2            2                 1       0   \n",
       "2        4                2            2                 1       1   \n",
       "3       28                1            1                 1       1   \n",
       "4        2                0            3                 2       0   \n",
       "...    ...              ...          ...               ...     ...   \n",
       "2376    16                1            3                 4       0   \n",
       "2377    28                1            1                 1       1   \n",
       "2378    10                1            2                 1       1   \n",
       "2379    12                2            1                 1       1   \n",
       "2380    19                2            2                 2       0   \n",
       "\n",
       "      Joining Designation  Emp_ID  \n",
       "0                       1       1  \n",
       "1                       2       2  \n",
       "2                       2       4  \n",
       "3                       1       5  \n",
       "4                       3       6  \n",
       "...                   ...     ...  \n",
       "2376                    2    2784  \n",
       "2377                    1    2785  \n",
       "2378                    2    2786  \n",
       "2379                    1    2787  \n",
       "2380                    2    2788  \n",
       "\n",
       "[2381 rows x 12 columns]"
      ]
     },
     "execution_count": 105,
     "metadata": {},
     "output_type": "execute_result"
    }
   ],
   "source": [
    "pro"
   ]
  },
  {
   "cell_type": "markdown",
   "id": "49926a09",
   "metadata": {},
   "source": [
    "# smote for balancing the target variable"
   ]
  },
  {
   "cell_type": "code",
   "execution_count": 106,
   "id": "6cc54ed8",
   "metadata": {},
   "outputs": [],
   "source": [
    "import pandas as pd\n",
    "import sklearn\n",
    "from sklearn.utils import resample"
   ]
  },
  {
   "cell_type": "code",
   "execution_count": 107,
   "id": "343f71e9",
   "metadata": {},
   "outputs": [
    {
     "data": {
      "text/plain": [
       "1    1616\n",
       "0     765\n",
       "Name: Target, dtype: int64"
      ]
     },
     "execution_count": 107,
     "metadata": {},
     "output_type": "execute_result"
    }
   ],
   "source": [
    "pro.Target.value_counts()"
   ]
  },
  {
   "cell_type": "code",
   "execution_count": 108,
   "id": "cb7e02aa",
   "metadata": {},
   "outputs": [],
   "source": [
    "t_default = pro[pro.Target==0]"
   ]
  },
  {
   "cell_type": "code",
   "execution_count": 109,
   "id": "99ab0bc2",
   "metadata": {},
   "outputs": [
    {
     "data": {
      "text/plain": [
       "765"
      ]
     },
     "execution_count": 109,
     "metadata": {},
     "output_type": "execute_result"
    }
   ],
   "source": [
    "len(t_default)"
   ]
  },
  {
   "cell_type": "code",
   "execution_count": 110,
   "id": "0e59d2e9",
   "metadata": {},
   "outputs": [],
   "source": [
    "not_default = pro[pro.Target==1] "
   ]
  },
  {
   "cell_type": "code",
   "execution_count": 111,
   "id": "8e860b76",
   "metadata": {},
   "outputs": [
    {
     "data": {
      "text/plain": [
       "1616"
      ]
     },
     "execution_count": 111,
     "metadata": {},
     "output_type": "execute_result"
    }
   ],
   "source": [
    "len(not_default)"
   ]
  },
  {
   "cell_type": "code",
   "execution_count": 112,
   "id": "54afdd66",
   "metadata": {},
   "outputs": [
    {
     "data": {
      "text/html": [
       "<div>\n",
       "<style scoped>\n",
       "    .dataframe tbody tr th:only-of-type {\n",
       "        vertical-align: middle;\n",
       "    }\n",
       "\n",
       "    .dataframe tbody tr th {\n",
       "        vertical-align: top;\n",
       "    }\n",
       "\n",
       "    .dataframe thead th {\n",
       "        text-align: right;\n",
       "    }\n",
       "</style>\n",
       "<table border=\"1\" class=\"dataframe\">\n",
       "  <thead>\n",
       "    <tr style=\"text-align: right;\">\n",
       "      <th></th>\n",
       "      <th>Age</th>\n",
       "      <th>Salary</th>\n",
       "      <th>Total Business Value</th>\n",
       "      <th>Total Business Value</th>\n",
       "      <th>Gender</th>\n",
       "      <th>City</th>\n",
       "      <th>Education_Level</th>\n",
       "      <th>Designation</th>\n",
       "      <th>Quarterly Rating</th>\n",
       "      <th>Target</th>\n",
       "      <th>Joining Designation</th>\n",
       "      <th>Emp_ID</th>\n",
       "    </tr>\n",
       "  </thead>\n",
       "  <tbody>\n",
       "    <tr>\n",
       "      <th>54</th>\n",
       "      <td>-0.278023</td>\n",
       "      <td>0.703152</td>\n",
       "      <td>0.239898</td>\n",
       "      <td>2.490146</td>\n",
       "      <td>1</td>\n",
       "      <td>21</td>\n",
       "      <td>1</td>\n",
       "      <td>3</td>\n",
       "      <td>3</td>\n",
       "      <td>0</td>\n",
       "      <td>1</td>\n",
       "      <td>68</td>\n",
       "    </tr>\n",
       "    <tr>\n",
       "      <th>2163</th>\n",
       "      <td>0.390636</td>\n",
       "      <td>0.564170</td>\n",
       "      <td>-0.055745</td>\n",
       "      <td>-0.457462</td>\n",
       "      <td>0</td>\n",
       "      <td>12</td>\n",
       "      <td>1</td>\n",
       "      <td>2</td>\n",
       "      <td>1</td>\n",
       "      <td>0</td>\n",
       "      <td>2</td>\n",
       "      <td>2537</td>\n",
       "    </tr>\n",
       "    <tr>\n",
       "      <th>1662</th>\n",
       "      <td>-0.779518</td>\n",
       "      <td>0.716825</td>\n",
       "      <td>-0.235155</td>\n",
       "      <td>-0.502646</td>\n",
       "      <td>1</td>\n",
       "      <td>22</td>\n",
       "      <td>0</td>\n",
       "      <td>3</td>\n",
       "      <td>1</td>\n",
       "      <td>0</td>\n",
       "      <td>3</td>\n",
       "      <td>1955</td>\n",
       "    </tr>\n",
       "    <tr>\n",
       "      <th>2350</th>\n",
       "      <td>-0.779518</td>\n",
       "      <td>0.268198</td>\n",
       "      <td>0.049355</td>\n",
       "      <td>-0.388873</td>\n",
       "      <td>1</td>\n",
       "      <td>12</td>\n",
       "      <td>0</td>\n",
       "      <td>2</td>\n",
       "      <td>2</td>\n",
       "      <td>0</td>\n",
       "      <td>2</td>\n",
       "      <td>2752</td>\n",
       "    </tr>\n",
       "    <tr>\n",
       "      <th>875</th>\n",
       "      <td>-1.615342</td>\n",
       "      <td>-1.373302</td>\n",
       "      <td>-0.235155</td>\n",
       "      <td>-0.502646</td>\n",
       "      <td>1</td>\n",
       "      <td>8</td>\n",
       "      <td>1</td>\n",
       "      <td>1</td>\n",
       "      <td>1</td>\n",
       "      <td>0</td>\n",
       "      <td>1</td>\n",
       "      <td>1029</td>\n",
       "    </tr>\n",
       "    <tr>\n",
       "      <th>...</th>\n",
       "      <td>...</td>\n",
       "      <td>...</td>\n",
       "      <td>...</td>\n",
       "      <td>...</td>\n",
       "      <td>...</td>\n",
       "      <td>...</td>\n",
       "      <td>...</td>\n",
       "      <td>...</td>\n",
       "      <td>...</td>\n",
       "      <td>...</td>\n",
       "      <td>...</td>\n",
       "      <td>...</td>\n",
       "    </tr>\n",
       "    <tr>\n",
       "      <th>1217</th>\n",
       "      <td>0.056307</td>\n",
       "      <td>-1.056081</td>\n",
       "      <td>0.474286</td>\n",
       "      <td>1.260702</td>\n",
       "      <td>1</td>\n",
       "      <td>18</td>\n",
       "      <td>1</td>\n",
       "      <td>2</td>\n",
       "      <td>3</td>\n",
       "      <td>0</td>\n",
       "      <td>1</td>\n",
       "      <td>1432</td>\n",
       "    </tr>\n",
       "    <tr>\n",
       "      <th>2130</th>\n",
       "      <td>0.892131</td>\n",
       "      <td>-0.255206</td>\n",
       "      <td>0.167669</td>\n",
       "      <td>-0.316585</td>\n",
       "      <td>0</td>\n",
       "      <td>23</td>\n",
       "      <td>1</td>\n",
       "      <td>3</td>\n",
       "      <td>2</td>\n",
       "      <td>0</td>\n",
       "      <td>3</td>\n",
       "      <td>2497</td>\n",
       "    </tr>\n",
       "    <tr>\n",
       "      <th>1614</th>\n",
       "      <td>-0.110858</td>\n",
       "      <td>-0.284384</td>\n",
       "      <td>-0.235155</td>\n",
       "      <td>-0.502646</td>\n",
       "      <td>0</td>\n",
       "      <td>26</td>\n",
       "      <td>2</td>\n",
       "      <td>3</td>\n",
       "      <td>1</td>\n",
       "      <td>0</td>\n",
       "      <td>3</td>\n",
       "      <td>1894</td>\n",
       "    </tr>\n",
       "    <tr>\n",
       "      <th>1499</th>\n",
       "      <td>1.059296</td>\n",
       "      <td>0.294275</td>\n",
       "      <td>-0.235155</td>\n",
       "      <td>-0.502646</td>\n",
       "      <td>1</td>\n",
       "      <td>19</td>\n",
       "      <td>2</td>\n",
       "      <td>3</td>\n",
       "      <td>1</td>\n",
       "      <td>0</td>\n",
       "      <td>3</td>\n",
       "      <td>1758</td>\n",
       "    </tr>\n",
       "    <tr>\n",
       "      <th>990</th>\n",
       "      <td>0.892131</td>\n",
       "      <td>1.375722</td>\n",
       "      <td>1.571618</td>\n",
       "      <td>2.703061</td>\n",
       "      <td>0</td>\n",
       "      <td>7</td>\n",
       "      <td>0</td>\n",
       "      <td>3</td>\n",
       "      <td>4</td>\n",
       "      <td>0</td>\n",
       "      <td>1</td>\n",
       "      <td>1165</td>\n",
       "    </tr>\n",
       "  </tbody>\n",
       "</table>\n",
       "<p>1616 rows × 12 columns</p>\n",
       "</div>"
      ],
      "text/plain": [
       "           Age    Salary  Total Business Value  Total Business Value  Gender  \\\n",
       "54   -0.278023  0.703152              0.239898              2.490146       1   \n",
       "2163  0.390636  0.564170             -0.055745             -0.457462       0   \n",
       "1662 -0.779518  0.716825             -0.235155             -0.502646       1   \n",
       "2350 -0.779518  0.268198              0.049355             -0.388873       1   \n",
       "875  -1.615342 -1.373302             -0.235155             -0.502646       1   \n",
       "...        ...       ...                   ...                   ...     ...   \n",
       "1217  0.056307 -1.056081              0.474286              1.260702       1   \n",
       "2130  0.892131 -0.255206              0.167669             -0.316585       0   \n",
       "1614 -0.110858 -0.284384             -0.235155             -0.502646       0   \n",
       "1499  1.059296  0.294275             -0.235155             -0.502646       1   \n",
       "990   0.892131  1.375722              1.571618              2.703061       0   \n",
       "\n",
       "      City  Education_Level  Designation  Quarterly Rating  Target  \\\n",
       "54      21                1            3                 3       0   \n",
       "2163    12                1            2                 1       0   \n",
       "1662    22                0            3                 1       0   \n",
       "2350    12                0            2                 2       0   \n",
       "875      8                1            1                 1       0   \n",
       "...    ...              ...          ...               ...     ...   \n",
       "1217    18                1            2                 3       0   \n",
       "2130    23                1            3                 2       0   \n",
       "1614    26                2            3                 1       0   \n",
       "1499    19                2            3                 1       0   \n",
       "990      7                0            3                 4       0   \n",
       "\n",
       "      Joining Designation  Emp_ID  \n",
       "54                      1      68  \n",
       "2163                    2    2537  \n",
       "1662                    3    1955  \n",
       "2350                    2    2752  \n",
       "875                     1    1029  \n",
       "...                   ...     ...  \n",
       "1217                    1    1432  \n",
       "2130                    3    2497  \n",
       "1614                    3    1894  \n",
       "1499                    3    1758  \n",
       "990                     1    1165  \n",
       "\n",
       "[1616 rows x 12 columns]"
      ]
     },
     "execution_count": 112,
     "metadata": {},
     "output_type": "execute_result"
    }
   ],
   "source": [
    "from sklearn.utils import resample\n",
    "t_upsampled1 = resample(t_default,\n",
    "                          replace=True, # sample with replacement\n",
    "                          n_samples=len(not_default), # match number in majority class,\n",
    "                          random_state=27) # reproducible results\n",
    "t_upsampled1"
   ]
  },
  {
   "cell_type": "code",
   "execution_count": 113,
   "id": "dccf8848",
   "metadata": {},
   "outputs": [
    {
     "data": {
      "text/html": [
       "<div>\n",
       "<style scoped>\n",
       "    .dataframe tbody tr th:only-of-type {\n",
       "        vertical-align: middle;\n",
       "    }\n",
       "\n",
       "    .dataframe tbody tr th {\n",
       "        vertical-align: top;\n",
       "    }\n",
       "\n",
       "    .dataframe thead th {\n",
       "        text-align: right;\n",
       "    }\n",
       "</style>\n",
       "<table border=\"1\" class=\"dataframe\">\n",
       "  <thead>\n",
       "    <tr style=\"text-align: right;\">\n",
       "      <th></th>\n",
       "      <th>Age</th>\n",
       "      <th>Salary</th>\n",
       "      <th>Total Business Value</th>\n",
       "      <th>Total Business Value</th>\n",
       "      <th>Gender</th>\n",
       "      <th>City</th>\n",
       "      <th>Education_Level</th>\n",
       "      <th>Designation</th>\n",
       "      <th>Quarterly Rating</th>\n",
       "      <th>Target</th>\n",
       "      <th>Joining Designation</th>\n",
       "      <th>Emp_ID</th>\n",
       "    </tr>\n",
       "  </thead>\n",
       "  <tbody>\n",
       "    <tr>\n",
       "      <th>0</th>\n",
       "      <td>-0.946682</td>\n",
       "      <td>-0.068616</td>\n",
       "      <td>-0.235155</td>\n",
       "      <td>-0.314641</td>\n",
       "      <td>1</td>\n",
       "      <td>15</td>\n",
       "      <td>2</td>\n",
       "      <td>1</td>\n",
       "      <td>2</td>\n",
       "      <td>1</td>\n",
       "      <td>1</td>\n",
       "      <td>1</td>\n",
       "    </tr>\n",
       "    <tr>\n",
       "      <th>2</th>\n",
       "      <td>1.560790</td>\n",
       "      <td>0.220907</td>\n",
       "      <td>-0.235155</td>\n",
       "      <td>-0.464290</td>\n",
       "      <td>1</td>\n",
       "      <td>4</td>\n",
       "      <td>2</td>\n",
       "      <td>2</td>\n",
       "      <td>1</td>\n",
       "      <td>1</td>\n",
       "      <td>2</td>\n",
       "      <td>4</td>\n",
       "    </tr>\n",
       "    <tr>\n",
       "      <th>3</th>\n",
       "      <td>-0.779518</td>\n",
       "      <td>-0.456914</td>\n",
       "      <td>-0.235155</td>\n",
       "      <td>-0.489456</td>\n",
       "      <td>1</td>\n",
       "      <td>28</td>\n",
       "      <td>1</td>\n",
       "      <td>1</td>\n",
       "      <td>1</td>\n",
       "      <td>1</td>\n",
       "      <td>1</td>\n",
       "      <td>5</td>\n",
       "    </tr>\n",
       "    <tr>\n",
       "      <th>5</th>\n",
       "      <td>0.056307</td>\n",
       "      <td>0.398970</td>\n",
       "      <td>-0.235155</td>\n",
       "      <td>-0.502646</td>\n",
       "      <td>1</td>\n",
       "      <td>11</td>\n",
       "      <td>1</td>\n",
       "      <td>3</td>\n",
       "      <td>1</td>\n",
       "      <td>1</td>\n",
       "      <td>3</td>\n",
       "      <td>8</td>\n",
       "    </tr>\n",
       "    <tr>\n",
       "      <th>7</th>\n",
       "      <td>0.223472</td>\n",
       "      <td>-1.100094</td>\n",
       "      <td>-0.235155</td>\n",
       "      <td>-0.216934</td>\n",
       "      <td>1</td>\n",
       "      <td>15</td>\n",
       "      <td>2</td>\n",
       "      <td>1</td>\n",
       "      <td>1</td>\n",
       "      <td>1</td>\n",
       "      <td>1</td>\n",
       "      <td>12</td>\n",
       "    </tr>\n",
       "    <tr>\n",
       "      <th>...</th>\n",
       "      <td>...</td>\n",
       "      <td>...</td>\n",
       "      <td>...</td>\n",
       "      <td>...</td>\n",
       "      <td>...</td>\n",
       "      <td>...</td>\n",
       "      <td>...</td>\n",
       "      <td>...</td>\n",
       "      <td>...</td>\n",
       "      <td>...</td>\n",
       "      <td>...</td>\n",
       "      <td>...</td>\n",
       "    </tr>\n",
       "    <tr>\n",
       "      <th>1217</th>\n",
       "      <td>0.056307</td>\n",
       "      <td>-1.056081</td>\n",
       "      <td>0.474286</td>\n",
       "      <td>1.260702</td>\n",
       "      <td>1</td>\n",
       "      <td>18</td>\n",
       "      <td>1</td>\n",
       "      <td>2</td>\n",
       "      <td>3</td>\n",
       "      <td>0</td>\n",
       "      <td>1</td>\n",
       "      <td>1432</td>\n",
       "    </tr>\n",
       "    <tr>\n",
       "      <th>2130</th>\n",
       "      <td>0.892131</td>\n",
       "      <td>-0.255206</td>\n",
       "      <td>0.167669</td>\n",
       "      <td>-0.316585</td>\n",
       "      <td>0</td>\n",
       "      <td>23</td>\n",
       "      <td>1</td>\n",
       "      <td>3</td>\n",
       "      <td>2</td>\n",
       "      <td>0</td>\n",
       "      <td>3</td>\n",
       "      <td>2497</td>\n",
       "    </tr>\n",
       "    <tr>\n",
       "      <th>1614</th>\n",
       "      <td>-0.110858</td>\n",
       "      <td>-0.284384</td>\n",
       "      <td>-0.235155</td>\n",
       "      <td>-0.502646</td>\n",
       "      <td>0</td>\n",
       "      <td>26</td>\n",
       "      <td>2</td>\n",
       "      <td>3</td>\n",
       "      <td>1</td>\n",
       "      <td>0</td>\n",
       "      <td>3</td>\n",
       "      <td>1894</td>\n",
       "    </tr>\n",
       "    <tr>\n",
       "      <th>1499</th>\n",
       "      <td>1.059296</td>\n",
       "      <td>0.294275</td>\n",
       "      <td>-0.235155</td>\n",
       "      <td>-0.502646</td>\n",
       "      <td>1</td>\n",
       "      <td>19</td>\n",
       "      <td>2</td>\n",
       "      <td>3</td>\n",
       "      <td>1</td>\n",
       "      <td>0</td>\n",
       "      <td>3</td>\n",
       "      <td>1758</td>\n",
       "    </tr>\n",
       "    <tr>\n",
       "      <th>990</th>\n",
       "      <td>0.892131</td>\n",
       "      <td>1.375722</td>\n",
       "      <td>1.571618</td>\n",
       "      <td>2.703061</td>\n",
       "      <td>0</td>\n",
       "      <td>7</td>\n",
       "      <td>0</td>\n",
       "      <td>3</td>\n",
       "      <td>4</td>\n",
       "      <td>0</td>\n",
       "      <td>1</td>\n",
       "      <td>1165</td>\n",
       "    </tr>\n",
       "  </tbody>\n",
       "</table>\n",
       "<p>3232 rows × 12 columns</p>\n",
       "</div>"
      ],
      "text/plain": [
       "           Age    Salary  Total Business Value  Total Business Value  Gender  \\\n",
       "0    -0.946682 -0.068616             -0.235155             -0.314641       1   \n",
       "2     1.560790  0.220907             -0.235155             -0.464290       1   \n",
       "3    -0.779518 -0.456914             -0.235155             -0.489456       1   \n",
       "5     0.056307  0.398970             -0.235155             -0.502646       1   \n",
       "7     0.223472 -1.100094             -0.235155             -0.216934       1   \n",
       "...        ...       ...                   ...                   ...     ...   \n",
       "1217  0.056307 -1.056081              0.474286              1.260702       1   \n",
       "2130  0.892131 -0.255206              0.167669             -0.316585       0   \n",
       "1614 -0.110858 -0.284384             -0.235155             -0.502646       0   \n",
       "1499  1.059296  0.294275             -0.235155             -0.502646       1   \n",
       "990   0.892131  1.375722              1.571618              2.703061       0   \n",
       "\n",
       "      City  Education_Level  Designation  Quarterly Rating  Target  \\\n",
       "0       15                2            1                 2       1   \n",
       "2        4                2            2                 1       1   \n",
       "3       28                1            1                 1       1   \n",
       "5       11                1            3                 1       1   \n",
       "7       15                2            1                 1       1   \n",
       "...    ...              ...          ...               ...     ...   \n",
       "1217    18                1            2                 3       0   \n",
       "2130    23                1            3                 2       0   \n",
       "1614    26                2            3                 1       0   \n",
       "1499    19                2            3                 1       0   \n",
       "990      7                0            3                 4       0   \n",
       "\n",
       "      Joining Designation  Emp_ID  \n",
       "0                       1       1  \n",
       "2                       2       4  \n",
       "3                       1       5  \n",
       "5                       3       8  \n",
       "7                       1      12  \n",
       "...                   ...     ...  \n",
       "1217                    1    1432  \n",
       "2130                    3    2497  \n",
       "1614                    3    1894  \n",
       "1499                    3    1758  \n",
       "990                     1    1165  \n",
       "\n",
       "[3232 rows x 12 columns]"
      ]
     },
     "execution_count": 113,
     "metadata": {},
     "output_type": "execute_result"
    }
   ],
   "source": [
    "upsampled = pd.concat([not_default, t_upsampled1]) \n",
    "upsampled"
   ]
  },
  {
   "cell_type": "code",
   "execution_count": 114,
   "id": "89b6c818",
   "metadata": {},
   "outputs": [
    {
     "data": {
      "text/plain": [
       "0    1616\n",
       "1    1616\n",
       "Name: Target, dtype: int64"
      ]
     },
     "execution_count": 114,
     "metadata": {},
     "output_type": "execute_result"
    }
   ],
   "source": [
    "upsampled.Target.value_counts()"
   ]
  },
  {
   "cell_type": "code",
   "execution_count": 115,
   "id": "fd4276b4",
   "metadata": {},
   "outputs": [],
   "source": [
    "data_emp=upsampled.reset_index(drop=True)"
   ]
  },
  {
   "cell_type": "code",
   "execution_count": 116,
   "id": "7ba2f434",
   "metadata": {},
   "outputs": [
    {
     "data": {
      "text/html": [
       "<div>\n",
       "<style scoped>\n",
       "    .dataframe tbody tr th:only-of-type {\n",
       "        vertical-align: middle;\n",
       "    }\n",
       "\n",
       "    .dataframe tbody tr th {\n",
       "        vertical-align: top;\n",
       "    }\n",
       "\n",
       "    .dataframe thead th {\n",
       "        text-align: right;\n",
       "    }\n",
       "</style>\n",
       "<table border=\"1\" class=\"dataframe\">\n",
       "  <thead>\n",
       "    <tr style=\"text-align: right;\">\n",
       "      <th></th>\n",
       "      <th>Age</th>\n",
       "      <th>Salary</th>\n",
       "      <th>Total Business Value</th>\n",
       "      <th>Total Business Value</th>\n",
       "      <th>Gender</th>\n",
       "      <th>City</th>\n",
       "      <th>Education_Level</th>\n",
       "      <th>Designation</th>\n",
       "      <th>Quarterly Rating</th>\n",
       "      <th>Target</th>\n",
       "      <th>Joining Designation</th>\n",
       "      <th>Emp_ID</th>\n",
       "    </tr>\n",
       "  </thead>\n",
       "  <tbody>\n",
       "    <tr>\n",
       "      <th>0</th>\n",
       "      <td>-0.946682</td>\n",
       "      <td>-0.068616</td>\n",
       "      <td>-0.235155</td>\n",
       "      <td>-0.314641</td>\n",
       "      <td>1</td>\n",
       "      <td>15</td>\n",
       "      <td>2</td>\n",
       "      <td>1</td>\n",
       "      <td>2</td>\n",
       "      <td>1</td>\n",
       "      <td>1</td>\n",
       "      <td>1</td>\n",
       "    </tr>\n",
       "    <tr>\n",
       "      <th>1</th>\n",
       "      <td>1.560790</td>\n",
       "      <td>0.220907</td>\n",
       "      <td>-0.235155</td>\n",
       "      <td>-0.464290</td>\n",
       "      <td>1</td>\n",
       "      <td>4</td>\n",
       "      <td>2</td>\n",
       "      <td>2</td>\n",
       "      <td>1</td>\n",
       "      <td>1</td>\n",
       "      <td>2</td>\n",
       "      <td>4</td>\n",
       "    </tr>\n",
       "    <tr>\n",
       "      <th>2</th>\n",
       "      <td>-0.779518</td>\n",
       "      <td>-0.456914</td>\n",
       "      <td>-0.235155</td>\n",
       "      <td>-0.489456</td>\n",
       "      <td>1</td>\n",
       "      <td>28</td>\n",
       "      <td>1</td>\n",
       "      <td>1</td>\n",
       "      <td>1</td>\n",
       "      <td>1</td>\n",
       "      <td>1</td>\n",
       "      <td>5</td>\n",
       "    </tr>\n",
       "    <tr>\n",
       "      <th>3</th>\n",
       "      <td>0.056307</td>\n",
       "      <td>0.398970</td>\n",
       "      <td>-0.235155</td>\n",
       "      <td>-0.502646</td>\n",
       "      <td>1</td>\n",
       "      <td>11</td>\n",
       "      <td>1</td>\n",
       "      <td>3</td>\n",
       "      <td>1</td>\n",
       "      <td>1</td>\n",
       "      <td>3</td>\n",
       "      <td>8</td>\n",
       "    </tr>\n",
       "    <tr>\n",
       "      <th>4</th>\n",
       "      <td>0.223472</td>\n",
       "      <td>-1.100094</td>\n",
       "      <td>-0.235155</td>\n",
       "      <td>-0.216934</td>\n",
       "      <td>1</td>\n",
       "      <td>15</td>\n",
       "      <td>2</td>\n",
       "      <td>1</td>\n",
       "      <td>1</td>\n",
       "      <td>1</td>\n",
       "      <td>1</td>\n",
       "      <td>12</td>\n",
       "    </tr>\n",
       "    <tr>\n",
       "      <th>...</th>\n",
       "      <td>...</td>\n",
       "      <td>...</td>\n",
       "      <td>...</td>\n",
       "      <td>...</td>\n",
       "      <td>...</td>\n",
       "      <td>...</td>\n",
       "      <td>...</td>\n",
       "      <td>...</td>\n",
       "      <td>...</td>\n",
       "      <td>...</td>\n",
       "      <td>...</td>\n",
       "      <td>...</td>\n",
       "    </tr>\n",
       "    <tr>\n",
       "      <th>3227</th>\n",
       "      <td>0.056307</td>\n",
       "      <td>-1.056081</td>\n",
       "      <td>0.474286</td>\n",
       "      <td>1.260702</td>\n",
       "      <td>1</td>\n",
       "      <td>18</td>\n",
       "      <td>1</td>\n",
       "      <td>2</td>\n",
       "      <td>3</td>\n",
       "      <td>0</td>\n",
       "      <td>1</td>\n",
       "      <td>1432</td>\n",
       "    </tr>\n",
       "    <tr>\n",
       "      <th>3228</th>\n",
       "      <td>0.892131</td>\n",
       "      <td>-0.255206</td>\n",
       "      <td>0.167669</td>\n",
       "      <td>-0.316585</td>\n",
       "      <td>0</td>\n",
       "      <td>23</td>\n",
       "      <td>1</td>\n",
       "      <td>3</td>\n",
       "      <td>2</td>\n",
       "      <td>0</td>\n",
       "      <td>3</td>\n",
       "      <td>2497</td>\n",
       "    </tr>\n",
       "    <tr>\n",
       "      <th>3229</th>\n",
       "      <td>-0.110858</td>\n",
       "      <td>-0.284384</td>\n",
       "      <td>-0.235155</td>\n",
       "      <td>-0.502646</td>\n",
       "      <td>0</td>\n",
       "      <td>26</td>\n",
       "      <td>2</td>\n",
       "      <td>3</td>\n",
       "      <td>1</td>\n",
       "      <td>0</td>\n",
       "      <td>3</td>\n",
       "      <td>1894</td>\n",
       "    </tr>\n",
       "    <tr>\n",
       "      <th>3230</th>\n",
       "      <td>1.059296</td>\n",
       "      <td>0.294275</td>\n",
       "      <td>-0.235155</td>\n",
       "      <td>-0.502646</td>\n",
       "      <td>1</td>\n",
       "      <td>19</td>\n",
       "      <td>2</td>\n",
       "      <td>3</td>\n",
       "      <td>1</td>\n",
       "      <td>0</td>\n",
       "      <td>3</td>\n",
       "      <td>1758</td>\n",
       "    </tr>\n",
       "    <tr>\n",
       "      <th>3231</th>\n",
       "      <td>0.892131</td>\n",
       "      <td>1.375722</td>\n",
       "      <td>1.571618</td>\n",
       "      <td>2.703061</td>\n",
       "      <td>0</td>\n",
       "      <td>7</td>\n",
       "      <td>0</td>\n",
       "      <td>3</td>\n",
       "      <td>4</td>\n",
       "      <td>0</td>\n",
       "      <td>1</td>\n",
       "      <td>1165</td>\n",
       "    </tr>\n",
       "  </tbody>\n",
       "</table>\n",
       "<p>3232 rows × 12 columns</p>\n",
       "</div>"
      ],
      "text/plain": [
       "           Age    Salary  Total Business Value  Total Business Value  Gender  \\\n",
       "0    -0.946682 -0.068616             -0.235155             -0.314641       1   \n",
       "1     1.560790  0.220907             -0.235155             -0.464290       1   \n",
       "2    -0.779518 -0.456914             -0.235155             -0.489456       1   \n",
       "3     0.056307  0.398970             -0.235155             -0.502646       1   \n",
       "4     0.223472 -1.100094             -0.235155             -0.216934       1   \n",
       "...        ...       ...                   ...                   ...     ...   \n",
       "3227  0.056307 -1.056081              0.474286              1.260702       1   \n",
       "3228  0.892131 -0.255206              0.167669             -0.316585       0   \n",
       "3229 -0.110858 -0.284384             -0.235155             -0.502646       0   \n",
       "3230  1.059296  0.294275             -0.235155             -0.502646       1   \n",
       "3231  0.892131  1.375722              1.571618              2.703061       0   \n",
       "\n",
       "      City  Education_Level  Designation  Quarterly Rating  Target  \\\n",
       "0       15                2            1                 2       1   \n",
       "1        4                2            2                 1       1   \n",
       "2       28                1            1                 1       1   \n",
       "3       11                1            3                 1       1   \n",
       "4       15                2            1                 1       1   \n",
       "...    ...              ...          ...               ...     ...   \n",
       "3227    18                1            2                 3       0   \n",
       "3228    23                1            3                 2       0   \n",
       "3229    26                2            3                 1       0   \n",
       "3230    19                2            3                 1       0   \n",
       "3231     7                0            3                 4       0   \n",
       "\n",
       "      Joining Designation  Emp_ID  \n",
       "0                       1       1  \n",
       "1                       2       4  \n",
       "2                       1       5  \n",
       "3                       3       8  \n",
       "4                       1      12  \n",
       "...                   ...     ...  \n",
       "3227                    1    1432  \n",
       "3228                    3    2497  \n",
       "3229                    3    1894  \n",
       "3230                    3    1758  \n",
       "3231                    1    1165  \n",
       "\n",
       "[3232 rows x 12 columns]"
      ]
     },
     "execution_count": 116,
     "metadata": {},
     "output_type": "execute_result"
    }
   ],
   "source": [
    "data_emp"
   ]
  },
  {
   "cell_type": "code",
   "execution_count": 117,
   "id": "42685400",
   "metadata": {},
   "outputs": [],
   "source": [
    "data_emp.drop([\"Emp_ID\"],axis = 1,inplace = True)"
   ]
  },
  {
   "cell_type": "code",
   "execution_count": 118,
   "id": "f275d20c",
   "metadata": {},
   "outputs": [
    {
     "name": "stdout",
     "output_type": "stream",
     "text": [
      "<class 'pandas.core.frame.DataFrame'>\n",
      "RangeIndex: 3232 entries, 0 to 3231\n",
      "Data columns (total 11 columns):\n",
      " #   Column                Non-Null Count  Dtype  \n",
      "---  ------                --------------  -----  \n",
      " 0   Age                   3232 non-null   float64\n",
      " 1   Salary                3232 non-null   float64\n",
      " 2   Total Business Value  3232 non-null   float64\n",
      " 3   Total Business Value  3232 non-null   float64\n",
      " 4   Gender                3232 non-null   int32  \n",
      " 5   City                  3232 non-null   int32  \n",
      " 6   Education_Level       3232 non-null   int32  \n",
      " 7   Designation           3232 non-null   int64  \n",
      " 8   Quarterly Rating      3232 non-null   int64  \n",
      " 9   Target                3232 non-null   int64  \n",
      " 10  Joining Designation   3232 non-null   int64  \n",
      "dtypes: float64(4), int32(3), int64(4)\n",
      "memory usage: 240.0 KB\n"
     ]
    }
   ],
   "source": [
    "data_emp.info()"
   ]
  },
  {
   "cell_type": "code",
   "execution_count": 119,
   "id": "49fd63c4",
   "metadata": {},
   "outputs": [],
   "source": [
    "x=data_emp.drop(['Target'],axis=1)\n",
    "y=data_emp[['Target']]"
   ]
  },
  {
   "cell_type": "code",
   "execution_count": 120,
   "id": "28a49a54",
   "metadata": {},
   "outputs": [],
   "source": [
    "from sklearn.metrics import classification_report,accuracy_score,confusion_matrix\n",
    "from sklearn.model_selection import train_test_split\n",
    "xtrain,xtest,ytrain,ytest=train_test_split(x,y,test_size=0.25)"
   ]
  },
  {
   "cell_type": "code",
   "execution_count": 121,
   "id": "e6fc5fb6",
   "metadata": {},
   "outputs": [
    {
     "name": "stdout",
     "output_type": "stream",
     "text": [
      "xtrain: (2424, 10)\n",
      "xtest: (808, 10)\n",
      "ytrain: (2424, 1)\n",
      "ytest: (808, 1)\n"
     ]
    }
   ],
   "source": [
    "print('xtrain:',xtrain.shape)\n",
    "print('xtest:',xtest.shape)\n",
    "print('ytrain:',ytrain.shape)\n",
    "print('ytest:',ytest.shape)"
   ]
  },
  {
   "cell_type": "markdown",
   "id": "dee162bd",
   "metadata": {},
   "source": [
    "# SVM is a supervised machine learning algorithm which can be used for classification or regression problems. It uses a technique called the kernel trick to transform your data and then based on these transformations it finds an optimal boundary between the possible outputs."
   ]
  },
  {
   "cell_type": "code",
   "execution_count": 122,
   "id": "8166a8d0",
   "metadata": {},
   "outputs": [],
   "source": [
    "from sklearn.svm import SVC"
   ]
  },
  {
   "cell_type": "code",
   "execution_count": 123,
   "id": "c560f27e",
   "metadata": {},
   "outputs": [
    {
     "data": {
      "text/plain": [
       "array([0, 0, 1, 1, 0, 1, 1, 1, 1, 0, 0, 1, 1, 1, 1, 1, 0, 1, 0, 1, 1, 1,\n",
       "       1, 1, 0, 1, 1, 1, 1, 1, 1, 1, 1, 1, 0, 0, 0, 0, 1, 1, 1, 1, 0, 1,\n",
       "       0, 1, 1, 0, 1, 0, 1, 0, 1, 1, 1, 0, 0, 1, 0, 1, 1, 0, 1, 1, 1, 1,\n",
       "       1, 1, 1, 1, 1, 1, 1, 1, 0, 1, 0, 1, 0, 1, 1, 1, 1, 1, 1, 0, 1, 0,\n",
       "       0, 0, 1, 1, 1, 0, 1, 1, 1, 1, 0, 1, 0, 1, 1, 1, 0, 1, 0, 1, 0, 1,\n",
       "       1, 1, 1, 0, 1, 1, 1, 1, 1, 1, 1, 0, 1, 0, 0, 1, 1, 0, 1, 1, 0, 0,\n",
       "       0, 1, 0, 1, 1, 1, 0, 1, 1, 0, 1, 1, 1, 0, 1, 0, 1, 1, 1, 1, 1, 1,\n",
       "       1, 1, 0, 1, 0, 1, 1, 0, 1, 1, 0, 1, 0, 1, 1, 1, 1, 1, 0, 0, 0, 1,\n",
       "       1, 1, 1, 1, 1, 0, 0, 1, 0, 1, 0, 1, 1, 1, 1, 1, 1, 1, 0, 1, 1, 1,\n",
       "       0, 0, 0, 1, 1, 1, 1, 1, 1, 1, 0, 0, 1, 1, 0, 1, 1, 1, 0, 1, 1, 1,\n",
       "       1, 0, 0, 1, 1, 1, 0, 1, 0, 1, 0, 0, 0, 1, 0, 1, 1, 1, 0, 1, 0, 1,\n",
       "       1, 0, 1, 1, 1, 1, 0, 1, 0, 0, 1, 1, 0, 1, 1, 1, 0, 1, 1, 0, 0, 1,\n",
       "       0, 1, 0, 1, 0, 1, 0, 0, 1, 1, 0, 1, 1, 1, 1, 0, 0, 1, 1, 1, 0, 0,\n",
       "       1, 1, 1, 1, 1, 0, 1, 0, 1, 1, 1, 1, 0, 0, 1, 1, 1, 0, 1, 0, 0, 1,\n",
       "       0, 0, 0, 1, 1, 0, 1, 1, 1, 1, 1, 1, 1, 1, 1, 1, 1, 1, 0, 1, 1, 0,\n",
       "       1, 1, 0, 1, 1, 1, 0, 1, 1, 0, 1, 1, 0, 1, 1, 0, 1, 0, 0, 1, 1, 1,\n",
       "       0, 0, 1, 0, 0, 0, 1, 1, 0, 1, 1, 0, 1, 0, 1, 1, 1, 0, 1, 1, 1, 0,\n",
       "       0, 1, 0, 1, 1, 0, 1, 0, 0, 0, 0, 1, 0, 1, 1, 1, 1, 1, 0, 0, 0, 1,\n",
       "       1, 0, 0, 0, 1, 1, 1, 0, 1, 0, 1, 1, 1, 0, 0, 1, 0, 0, 1, 1, 1, 0,\n",
       "       1, 0, 1, 0, 1, 0, 1, 1, 1, 1, 0, 1, 0, 0, 1, 0, 1, 0, 1, 0, 1, 1,\n",
       "       0, 0, 1, 1, 0, 1, 1, 1, 0, 1, 0, 1, 1, 0, 1, 1, 0, 1, 0, 0, 1, 1,\n",
       "       1, 1, 1, 1, 1, 0, 1, 0, 1, 1, 0, 1, 0, 0, 1, 0, 1, 1, 0, 1, 1, 1,\n",
       "       1, 0, 1, 1, 0, 0, 0, 1, 1, 1, 1, 1, 1, 1, 0, 1, 1, 0, 0, 1, 1, 0,\n",
       "       1, 0, 1, 0, 1, 0, 1, 0, 1, 1, 1, 0, 1, 1, 1, 1, 1, 0, 1, 1, 1, 1,\n",
       "       1, 0, 1, 1, 0, 0, 1, 1, 1, 1, 1, 1, 1, 0, 1, 0, 1, 1, 0, 1, 1, 0,\n",
       "       1, 1, 0, 1, 0, 1, 0, 1, 1, 1, 1, 1, 1, 1, 1, 0, 0, 1, 0, 0, 1, 0,\n",
       "       0, 0, 0, 1, 1, 0, 1, 1, 0, 1, 1, 1, 0, 0, 1, 1, 1, 1, 1, 1, 0, 1,\n",
       "       0, 0, 1, 0, 0, 1, 1, 1, 1, 0, 1, 0, 1, 1, 0, 1, 1, 0, 0, 0, 1, 0,\n",
       "       1, 1, 0, 1, 1, 0, 0, 0, 1, 1, 1, 1, 1, 0, 0, 1, 1, 0, 0, 1, 0, 1,\n",
       "       1, 1, 1, 1, 1, 0, 1, 0, 1, 1, 0, 1, 1, 1, 0, 0, 1, 0, 0, 1, 1, 1,\n",
       "       1, 1, 1, 0, 1, 0, 0, 1, 1, 1, 1, 1, 0, 1, 1, 1, 0, 1, 0, 1, 1, 1,\n",
       "       1, 1, 0, 1, 0, 1, 1, 0, 0, 1, 1, 1, 0, 1, 1, 0, 1, 1, 1, 1, 1, 0,\n",
       "       1, 0, 0, 0, 0, 1, 1, 1, 0, 1, 0, 0, 1, 1, 1, 0, 1, 1, 0, 0, 1, 1,\n",
       "       1, 1, 1, 1, 0, 1, 0, 1, 0, 0, 0, 1, 0, 0, 1, 0, 1, 1, 0, 1, 1, 1,\n",
       "       0, 1, 1, 1, 1, 0, 1, 1, 1, 1, 1, 1, 0, 1, 0, 1, 1, 0, 1, 1, 1, 0,\n",
       "       0, 1, 1, 1, 1, 1, 1, 0, 1, 0, 1, 1, 1, 1, 1, 0, 1, 0, 0, 0, 1, 1,\n",
       "       1, 1, 0, 0, 1, 1, 1, 0, 0, 0, 1, 0, 1, 1, 0, 1], dtype=int64)"
      ]
     },
     "execution_count": 123,
     "metadata": {},
     "output_type": "execute_result"
    }
   ],
   "source": [
    "svc=SVC(kernel='linear',C=1,gamma='auto',probability=True).fit(xtrain,ytrain)\n",
    "\n",
    "ypred=svc.predict(xtest)\n",
    "ypred"
   ]
  },
  {
   "cell_type": "code",
   "execution_count": 124,
   "id": "dd6d4940",
   "metadata": {},
   "outputs": [
    {
     "name": "stdout",
     "output_type": "stream",
     "text": [
      "              precision    recall  f1-score   support\n",
      "\n",
      "           0       0.90      0.63      0.74       407\n",
      "           1       0.71      0.93      0.81       401\n",
      "\n",
      "    accuracy                           0.78       808\n",
      "   macro avg       0.81      0.78      0.78       808\n",
      "weighted avg       0.81      0.78      0.77       808\n",
      "\n"
     ]
    }
   ],
   "source": [
    "predictions = svc.predict(xtest)\n",
    "print(classification_report(ytest, predictions))"
   ]
  },
  {
   "cell_type": "code",
   "execution_count": 125,
   "id": "cc279c63",
   "metadata": {},
   "outputs": [],
   "source": [
    "test=pd.read_csv('test_hXY9mYw.csv')"
   ]
  },
  {
   "cell_type": "code",
   "execution_count": 126,
   "id": "0c9e5df7",
   "metadata": {},
   "outputs": [
    {
     "data": {
      "text/html": [
       "<div>\n",
       "<style scoped>\n",
       "    .dataframe tbody tr th:only-of-type {\n",
       "        vertical-align: middle;\n",
       "    }\n",
       "\n",
       "    .dataframe tbody tr th {\n",
       "        vertical-align: top;\n",
       "    }\n",
       "\n",
       "    .dataframe thead th {\n",
       "        text-align: right;\n",
       "    }\n",
       "</style>\n",
       "<table border=\"1\" class=\"dataframe\">\n",
       "  <thead>\n",
       "    <tr style=\"text-align: right;\">\n",
       "      <th></th>\n",
       "      <th>Emp_ID</th>\n",
       "    </tr>\n",
       "  </thead>\n",
       "  <tbody>\n",
       "    <tr>\n",
       "      <th>0</th>\n",
       "      <td>394</td>\n",
       "    </tr>\n",
       "    <tr>\n",
       "      <th>1</th>\n",
       "      <td>173</td>\n",
       "    </tr>\n",
       "    <tr>\n",
       "      <th>2</th>\n",
       "      <td>1090</td>\n",
       "    </tr>\n",
       "    <tr>\n",
       "      <th>3</th>\n",
       "      <td>840</td>\n",
       "    </tr>\n",
       "    <tr>\n",
       "      <th>4</th>\n",
       "      <td>308</td>\n",
       "    </tr>\n",
       "  </tbody>\n",
       "</table>\n",
       "</div>"
      ],
      "text/plain": [
       "   Emp_ID\n",
       "0     394\n",
       "1     173\n",
       "2    1090\n",
       "3     840\n",
       "4     308"
      ]
     },
     "execution_count": 126,
     "metadata": {},
     "output_type": "execute_result"
    }
   ],
   "source": [
    "test.head()"
   ]
  },
  {
   "cell_type": "code",
   "execution_count": 127,
   "id": "63b1214d",
   "metadata": {},
   "outputs": [
    {
     "data": {
      "text/html": [
       "<div>\n",
       "<style scoped>\n",
       "    .dataframe tbody tr th:only-of-type {\n",
       "        vertical-align: middle;\n",
       "    }\n",
       "\n",
       "    .dataframe tbody tr th {\n",
       "        vertical-align: top;\n",
       "    }\n",
       "\n",
       "    .dataframe thead th {\n",
       "        text-align: right;\n",
       "    }\n",
       "</style>\n",
       "<table border=\"1\" class=\"dataframe\">\n",
       "  <thead>\n",
       "    <tr style=\"text-align: right;\">\n",
       "      <th></th>\n",
       "      <th>Age</th>\n",
       "      <th>Salary</th>\n",
       "      <th>Total Business Value</th>\n",
       "      <th>Total Business Value</th>\n",
       "      <th>Gender</th>\n",
       "      <th>City</th>\n",
       "      <th>Education_Level</th>\n",
       "      <th>Designation</th>\n",
       "      <th>Quarterly Rating</th>\n",
       "      <th>Target</th>\n",
       "      <th>Joining Designation</th>\n",
       "      <th>Emp_ID</th>\n",
       "    </tr>\n",
       "  </thead>\n",
       "  <tbody>\n",
       "    <tr>\n",
       "      <th>0</th>\n",
       "      <td>-0.946682</td>\n",
       "      <td>-0.068616</td>\n",
       "      <td>-0.235155</td>\n",
       "      <td>-0.314641</td>\n",
       "      <td>1</td>\n",
       "      <td>15</td>\n",
       "      <td>2</td>\n",
       "      <td>1</td>\n",
       "      <td>2</td>\n",
       "      <td>1</td>\n",
       "      <td>1</td>\n",
       "      <td>1</td>\n",
       "    </tr>\n",
       "    <tr>\n",
       "      <th>1</th>\n",
       "      <td>-0.445188</td>\n",
       "      <td>0.270700</td>\n",
       "      <td>-0.235155</td>\n",
       "      <td>-0.502646</td>\n",
       "      <td>1</td>\n",
       "      <td>26</td>\n",
       "      <td>2</td>\n",
       "      <td>2</td>\n",
       "      <td>1</td>\n",
       "      <td>0</td>\n",
       "      <td>2</td>\n",
       "      <td>2</td>\n",
       "    </tr>\n",
       "    <tr>\n",
       "      <th>2</th>\n",
       "      <td>1.560790</td>\n",
       "      <td>0.220907</td>\n",
       "      <td>-0.235155</td>\n",
       "      <td>-0.464290</td>\n",
       "      <td>1</td>\n",
       "      <td>4</td>\n",
       "      <td>2</td>\n",
       "      <td>2</td>\n",
       "      <td>1</td>\n",
       "      <td>1</td>\n",
       "      <td>2</td>\n",
       "      <td>4</td>\n",
       "    </tr>\n",
       "    <tr>\n",
       "      <th>3</th>\n",
       "      <td>-0.779518</td>\n",
       "      <td>-0.456914</td>\n",
       "      <td>-0.235155</td>\n",
       "      <td>-0.489456</td>\n",
       "      <td>1</td>\n",
       "      <td>28</td>\n",
       "      <td>1</td>\n",
       "      <td>1</td>\n",
       "      <td>1</td>\n",
       "      <td>1</td>\n",
       "      <td>1</td>\n",
       "      <td>5</td>\n",
       "    </tr>\n",
       "    <tr>\n",
       "      <th>4</th>\n",
       "      <td>-0.445188</td>\n",
       "      <td>0.683418</td>\n",
       "      <td>-0.235155</td>\n",
       "      <td>-0.364019</td>\n",
       "      <td>0</td>\n",
       "      <td>2</td>\n",
       "      <td>0</td>\n",
       "      <td>3</td>\n",
       "      <td>2</td>\n",
       "      <td>0</td>\n",
       "      <td>3</td>\n",
       "      <td>6</td>\n",
       "    </tr>\n",
       "  </tbody>\n",
       "</table>\n",
       "</div>"
      ],
      "text/plain": [
       "        Age    Salary  Total Business Value  Total Business Value  Gender  \\\n",
       "0 -0.946682 -0.068616             -0.235155             -0.314641       1   \n",
       "1 -0.445188  0.270700             -0.235155             -0.502646       1   \n",
       "2  1.560790  0.220907             -0.235155             -0.464290       1   \n",
       "3 -0.779518 -0.456914             -0.235155             -0.489456       1   \n",
       "4 -0.445188  0.683418             -0.235155             -0.364019       0   \n",
       "\n",
       "   City  Education_Level  Designation  Quarterly Rating  Target  \\\n",
       "0    15                2            1                 2       1   \n",
       "1    26                2            2                 1       0   \n",
       "2     4                2            2                 1       1   \n",
       "3    28                1            1                 1       1   \n",
       "4     2                0            3                 2       0   \n",
       "\n",
       "   Joining Designation  Emp_ID  \n",
       "0                    1       1  \n",
       "1                    2       2  \n",
       "2                    2       4  \n",
       "3                    1       5  \n",
       "4                    3       6  "
      ]
     },
     "execution_count": 127,
     "metadata": {},
     "output_type": "execute_result"
    }
   ],
   "source": [
    "pro.head()"
   ]
  },
  {
   "cell_type": "code",
   "execution_count": 128,
   "id": "9424f9a1",
   "metadata": {},
   "outputs": [],
   "source": [
    "pra=pd.merge(test,pro, on='Emp_ID')"
   ]
  },
  {
   "cell_type": "code",
   "execution_count": 129,
   "id": "b01f82e7",
   "metadata": {},
   "outputs": [
    {
     "data": {
      "text/plain": [
       "(741, 12)"
      ]
     },
     "execution_count": 129,
     "metadata": {},
     "output_type": "execute_result"
    }
   ],
   "source": [
    "pra.shape"
   ]
  },
  {
   "cell_type": "code",
   "execution_count": 130,
   "id": "129cee40",
   "metadata": {},
   "outputs": [],
   "source": [
    "pra=pra.drop(['Emp_ID','Target'],axis=1)"
   ]
  },
  {
   "cell_type": "code",
   "execution_count": 131,
   "id": "2fdcb996",
   "metadata": {},
   "outputs": [
    {
     "data": {
      "text/html": [
       "<div>\n",
       "<style scoped>\n",
       "    .dataframe tbody tr th:only-of-type {\n",
       "        vertical-align: middle;\n",
       "    }\n",
       "\n",
       "    .dataframe tbody tr th {\n",
       "        vertical-align: top;\n",
       "    }\n",
       "\n",
       "    .dataframe thead th {\n",
       "        text-align: right;\n",
       "    }\n",
       "</style>\n",
       "<table border=\"1\" class=\"dataframe\">\n",
       "  <thead>\n",
       "    <tr style=\"text-align: right;\">\n",
       "      <th></th>\n",
       "      <th>Age</th>\n",
       "      <th>Salary</th>\n",
       "      <th>Total Business Value</th>\n",
       "      <th>Total Business Value</th>\n",
       "      <th>Gender</th>\n",
       "      <th>City</th>\n",
       "      <th>Education_Level</th>\n",
       "      <th>Designation</th>\n",
       "      <th>Quarterly Rating</th>\n",
       "      <th>Joining Designation</th>\n",
       "    </tr>\n",
       "  </thead>\n",
       "  <tbody>\n",
       "    <tr>\n",
       "      <th>0</th>\n",
       "      <td>0.056307</td>\n",
       "      <td>1.352747</td>\n",
       "      <td>2.146411</td>\n",
       "      <td>2.506409</td>\n",
       "      <td>0</td>\n",
       "      <td>12</td>\n",
       "      <td>2</td>\n",
       "      <td>4</td>\n",
       "      <td>3</td>\n",
       "      <td>2</td>\n",
       "    </tr>\n",
       "    <tr>\n",
       "      <th>1</th>\n",
       "      <td>0.892131</td>\n",
       "      <td>-0.111361</td>\n",
       "      <td>0.387186</td>\n",
       "      <td>1.674435</td>\n",
       "      <td>1</td>\n",
       "      <td>20</td>\n",
       "      <td>1</td>\n",
       "      <td>3</td>\n",
       "      <td>3</td>\n",
       "      <td>1</td>\n",
       "    </tr>\n",
       "    <tr>\n",
       "      <th>2</th>\n",
       "      <td>0.892131</td>\n",
       "      <td>1.318494</td>\n",
       "      <td>1.103406</td>\n",
       "      <td>5.018603</td>\n",
       "      <td>1</td>\n",
       "      <td>4</td>\n",
       "      <td>1</td>\n",
       "      <td>4</td>\n",
       "      <td>2</td>\n",
       "      <td>2</td>\n",
       "    </tr>\n",
       "    <tr>\n",
       "      <th>3</th>\n",
       "      <td>1.059296</td>\n",
       "      <td>1.038803</td>\n",
       "      <td>0.780163</td>\n",
       "      <td>1.375016</td>\n",
       "      <td>0</td>\n",
       "      <td>27</td>\n",
       "      <td>1</td>\n",
       "      <td>4</td>\n",
       "      <td>2</td>\n",
       "      <td>1</td>\n",
       "    </tr>\n",
       "    <tr>\n",
       "      <th>4</th>\n",
       "      <td>-0.278023</td>\n",
       "      <td>4.548777</td>\n",
       "      <td>3.090628</td>\n",
       "      <td>5.856064</td>\n",
       "      <td>1</td>\n",
       "      <td>24</td>\n",
       "      <td>2</td>\n",
       "      <td>5</td>\n",
       "      <td>2</td>\n",
       "      <td>2</td>\n",
       "    </tr>\n",
       "  </tbody>\n",
       "</table>\n",
       "</div>"
      ],
      "text/plain": [
       "        Age    Salary  Total Business Value  Total Business Value  Gender  \\\n",
       "0  0.056307  1.352747              2.146411              2.506409       0   \n",
       "1  0.892131 -0.111361              0.387186              1.674435       1   \n",
       "2  0.892131  1.318494              1.103406              5.018603       1   \n",
       "3  1.059296  1.038803              0.780163              1.375016       0   \n",
       "4 -0.278023  4.548777              3.090628              5.856064       1   \n",
       "\n",
       "   City  Education_Level  Designation  Quarterly Rating  Joining Designation  \n",
       "0    12                2            4                 3                    2  \n",
       "1    20                1            3                 3                    1  \n",
       "2     4                1            4                 2                    2  \n",
       "3    27                1            4                 2                    1  \n",
       "4    24                2            5                 2                    2  "
      ]
     },
     "execution_count": 131,
     "metadata": {},
     "output_type": "execute_result"
    }
   ],
   "source": [
    "pra.head()"
   ]
  },
  {
   "cell_type": "code",
   "execution_count": 132,
   "id": "700e7d99",
   "metadata": {},
   "outputs": [
    {
     "data": {
      "text/plain": [
       "array([0, 0, 0, 0, 0, 0, 0, 0, 0, 0, 0, 0, 0, 0, 0, 0, 0, 0, 0, 0, 0, 0,\n",
       "       0, 0, 0, 0, 0, 0, 0, 0, 0, 0, 0, 0, 0, 0, 0, 0, 0, 0, 0, 0, 0, 0,\n",
       "       0, 0, 1, 0, 0, 0, 0, 0, 0, 0, 0, 0, 0, 0, 0, 0, 0, 0, 0, 1, 0, 0,\n",
       "       0, 0, 0, 0, 0, 0, 0, 0, 0, 0, 0, 0, 0, 1, 0, 0, 0, 0, 0, 0, 0, 0,\n",
       "       0, 0, 0, 0, 0, 0, 0, 0, 1, 0, 0, 0, 0, 0, 0, 0, 0, 0, 0, 0, 0, 0,\n",
       "       0, 1, 1, 0, 0, 0, 0, 0, 0, 0, 0, 0, 0, 0, 0, 0, 0, 0, 0, 0, 0, 0,\n",
       "       0, 0, 0, 0, 0, 0, 0, 0, 0, 1, 0, 0, 0, 1, 0, 0, 0, 0, 1, 0, 1, 0,\n",
       "       0, 0, 0, 0, 0, 0, 0, 0, 0, 0, 0, 0, 0, 0, 0, 0, 0, 1, 0, 0, 0, 0,\n",
       "       0, 0, 0, 0, 0, 1, 0, 0, 0, 0, 0, 0, 0, 0, 0, 0, 0, 0, 0, 0, 0, 0,\n",
       "       0, 0, 0, 0, 0, 0, 0, 0, 0, 0, 0, 0, 0, 0, 0, 1, 0, 1, 0, 0, 0, 0,\n",
       "       0, 0, 0, 0, 0, 0, 0, 1, 0, 0, 1, 0, 0, 0, 1, 0, 0, 0, 0, 0, 0, 0,\n",
       "       0, 0, 0, 1, 1, 1, 0, 0, 0, 0, 0, 0, 0, 0, 0, 1, 0, 0, 1, 0, 0, 0,\n",
       "       0, 0, 0, 0, 0, 0, 0, 0, 1, 0, 0, 1, 0, 0, 0, 0, 0, 0, 1, 1, 0, 0,\n",
       "       0, 0, 0, 0, 0, 0, 0, 0, 0, 0, 0, 1, 0, 0, 1, 0, 1, 0, 0, 0, 1, 0,\n",
       "       0, 0, 1, 0, 0, 0, 0, 0, 1, 0, 1, 0, 0, 0, 1, 0, 0, 0, 0, 0, 0, 0,\n",
       "       0, 0, 0, 1, 1, 0, 1, 0, 1, 0, 0, 0, 1, 0, 0, 0, 1, 0, 0, 0, 0, 0,\n",
       "       0, 1, 0, 0, 0, 1, 0, 0, 0, 0, 0, 0, 0, 0, 0, 0, 0, 1, 0, 0, 0, 0,\n",
       "       1, 0, 0, 0, 0, 0, 0, 0, 0, 0, 1, 1, 1, 0, 0, 1, 1, 1, 0, 0, 1, 1,\n",
       "       0, 0, 0, 1, 0, 1, 0, 1, 1, 0, 0, 0, 0, 0, 0, 1, 1, 1, 1, 0, 0, 1,\n",
       "       0, 1, 0, 0, 1, 0, 1, 1, 0, 0, 1, 1, 0, 0, 1, 0, 0, 0, 0, 0, 0, 0,\n",
       "       0, 0, 1, 0, 0, 0, 0, 0, 0, 1, 1, 0, 0, 0, 0, 0, 0, 1, 1, 0, 0, 0,\n",
       "       0, 1, 1, 0, 1, 0, 1, 0, 1, 0, 0, 1, 1, 1, 0, 0, 1, 0, 0, 1, 1, 0,\n",
       "       0, 1, 1, 0, 0, 0, 0, 0, 1, 0, 0, 1, 0, 1, 1, 1, 1, 0, 1, 1, 0, 1,\n",
       "       0, 1, 0, 1, 0, 1, 0, 0, 0, 1, 0, 0, 0, 0, 0, 0, 1, 1, 0, 0, 0, 0,\n",
       "       1, 1, 1, 1, 1, 0, 0, 1, 1, 1, 1, 0, 1, 0, 0, 0, 0, 0, 1, 0, 1, 0,\n",
       "       0, 1, 0, 1, 0, 1, 1, 0, 0, 1, 1, 0, 0, 1, 0, 1, 0, 1, 1, 1, 1, 0,\n",
       "       0, 1, 1, 1, 1, 1, 1, 0, 1, 1, 1, 1, 0, 1, 1, 1, 1, 1, 1, 0, 1, 1,\n",
       "       0, 1, 1, 0, 0, 1, 1, 1, 1, 1, 1, 1, 1, 1, 0, 1, 1, 1, 1, 1, 1, 1,\n",
       "       1, 1, 1, 1, 0, 1, 1, 1, 1, 1, 1, 1, 1, 1, 1, 1, 1, 0, 1, 1, 1, 1,\n",
       "       1, 1, 1, 1, 1, 1, 1, 0, 1, 1, 1, 1, 1, 1, 1, 1, 1, 1, 1, 1, 1, 1,\n",
       "       1, 1, 1, 1, 1, 1, 1, 1, 1, 1, 1, 1, 1, 1, 1, 1, 1, 1, 1, 0, 1, 1,\n",
       "       1, 1, 1, 1, 1, 1, 1, 1, 1, 1, 1, 1, 1, 1, 1, 1, 1, 1, 1, 1, 1, 1,\n",
       "       1, 1, 1, 1, 1, 1, 1, 1, 1, 1, 1, 1, 1, 1, 1, 1, 1, 1, 0, 1, 0, 0,\n",
       "       0, 0, 1, 0, 0, 0, 0, 0, 0, 0, 0, 0, 0, 0, 0], dtype=int64)"
      ]
     },
     "execution_count": 132,
     "metadata": {},
     "output_type": "execute_result"
    }
   ],
   "source": [
    "test_pred=svc.predict(pra)\n",
    "test_pred"
   ]
  },
  {
   "cell_type": "code",
   "execution_count": 133,
   "id": "66fb5a01",
   "metadata": {},
   "outputs": [],
   "source": [
    "submission105=pd.read_csv('sample_submission_znWiLZ4.csv')"
   ]
  },
  {
   "cell_type": "code",
   "execution_count": 134,
   "id": "86e95d67",
   "metadata": {},
   "outputs": [
    {
     "data": {
      "text/html": [
       "<div>\n",
       "<style scoped>\n",
       "    .dataframe tbody tr th:only-of-type {\n",
       "        vertical-align: middle;\n",
       "    }\n",
       "\n",
       "    .dataframe tbody tr th {\n",
       "        vertical-align: top;\n",
       "    }\n",
       "\n",
       "    .dataframe thead th {\n",
       "        text-align: right;\n",
       "    }\n",
       "</style>\n",
       "<table border=\"1\" class=\"dataframe\">\n",
       "  <thead>\n",
       "    <tr style=\"text-align: right;\">\n",
       "      <th></th>\n",
       "      <th>Emp_ID</th>\n",
       "      <th>Target</th>\n",
       "    </tr>\n",
       "  </thead>\n",
       "  <tbody>\n",
       "    <tr>\n",
       "      <th>0</th>\n",
       "      <td>394</td>\n",
       "      <td>0</td>\n",
       "    </tr>\n",
       "    <tr>\n",
       "      <th>1</th>\n",
       "      <td>173</td>\n",
       "      <td>0</td>\n",
       "    </tr>\n",
       "    <tr>\n",
       "      <th>2</th>\n",
       "      <td>1090</td>\n",
       "      <td>0</td>\n",
       "    </tr>\n",
       "    <tr>\n",
       "      <th>3</th>\n",
       "      <td>840</td>\n",
       "      <td>0</td>\n",
       "    </tr>\n",
       "    <tr>\n",
       "      <th>4</th>\n",
       "      <td>308</td>\n",
       "      <td>0</td>\n",
       "    </tr>\n",
       "    <tr>\n",
       "      <th>...</th>\n",
       "      <td>...</td>\n",
       "      <td>...</td>\n",
       "    </tr>\n",
       "    <tr>\n",
       "      <th>736</th>\n",
       "      <td>2134</td>\n",
       "      <td>0</td>\n",
       "    </tr>\n",
       "    <tr>\n",
       "      <th>737</th>\n",
       "      <td>2255</td>\n",
       "      <td>0</td>\n",
       "    </tr>\n",
       "    <tr>\n",
       "      <th>738</th>\n",
       "      <td>448</td>\n",
       "      <td>0</td>\n",
       "    </tr>\n",
       "    <tr>\n",
       "      <th>739</th>\n",
       "      <td>1644</td>\n",
       "      <td>0</td>\n",
       "    </tr>\n",
       "    <tr>\n",
       "      <th>740</th>\n",
       "      <td>624</td>\n",
       "      <td>0</td>\n",
       "    </tr>\n",
       "  </tbody>\n",
       "</table>\n",
       "<p>741 rows × 2 columns</p>\n",
       "</div>"
      ],
      "text/plain": [
       "     Emp_ID  Target\n",
       "0       394       0\n",
       "1       173       0\n",
       "2      1090       0\n",
       "3       840       0\n",
       "4       308       0\n",
       "..      ...     ...\n",
       "736    2134       0\n",
       "737    2255       0\n",
       "738     448       0\n",
       "739    1644       0\n",
       "740     624       0\n",
       "\n",
       "[741 rows x 2 columns]"
      ]
     },
     "execution_count": 134,
     "metadata": {},
     "output_type": "execute_result"
    }
   ],
   "source": [
    "submission105"
   ]
  },
  {
   "cell_type": "code",
   "execution_count": 135,
   "id": "9c27e0c3",
   "metadata": {},
   "outputs": [],
   "source": [
    "submission105['Target']=test_pred"
   ]
  },
  {
   "cell_type": "code",
   "execution_count": 136,
   "id": "7180f799",
   "metadata": {},
   "outputs": [],
   "source": [
    "submission105.to_csv('submission106.csv',index=False)"
   ]
  },
  {
   "cell_type": "code",
   "execution_count": null,
   "id": "09269abf",
   "metadata": {},
   "outputs": [],
   "source": []
  }
 ],
 "metadata": {
  "kernelspec": {
   "display_name": "Python 3",
   "language": "python",
   "name": "python3"
  },
  "language_info": {
   "codemirror_mode": {
    "name": "ipython",
    "version": 3
   },
   "file_extension": ".py",
   "mimetype": "text/x-python",
   "name": "python",
   "nbconvert_exporter": "python",
   "pygments_lexer": "ipython3",
   "version": "3.8.8"
  }
 },
 "nbformat": 4,
 "nbformat_minor": 5
}
